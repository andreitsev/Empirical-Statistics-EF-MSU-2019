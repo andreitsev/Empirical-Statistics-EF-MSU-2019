{
 "cells": [
  {
   "cell_type": "markdown",
   "metadata": {},
   "source": [
    "## Основы питона"
   ]
  },
  {
   "cell_type": "markdown",
   "metadata": {},
   "source": [
    "На данном занятии мы познакомимся с основами языка python и некоторыми библиотеками, которые нам в дальнейшей понадобятся"
   ]
  },
  {
   "cell_type": "markdown",
   "metadata": {},
   "source": [
    "Ссылки на полезные источники:"
   ]
  },
  {
   "cell_type": "markdown",
   "metadata": {},
   "source": [
    "http://www.machinelearning.ru/wiki/images/9/93/PZAD2017_c1_python.pdf - полноценный обзор основных вещей\n",
    "\n",
    "https://github.com/Dyakonov/python_hacks/blob/master/dj_python_0_intro_20181004.ipynb - краткое введение\n",
    "\n",
    "https://github.com/Dyakonov/IML/blob/master/IML2018_03_numpy_04.pdf - библиотеки numpy, matplotlib, scipy\n",
    "\n",
    "https://github.com/Dyakonov/IML/blob/master/IML2018_08_pandas_01.pdf - библиотека pandas"
   ]
  },
  {
   "cell_type": "markdown",
   "metadata": {},
   "source": [
    "Поехали!"
   ]
  },
  {
   "cell_type": "markdown",
   "metadata": {},
   "source": [
    "Питон можно использовать как калькулятор"
   ]
  },
  {
   "cell_type": "code",
   "execution_count": 151,
   "metadata": {},
   "outputs": [
    {
     "name": "stdout",
     "output_type": "stream",
     "text": [
      "18.3\n",
      "-8.3\n",
      "8.3\n",
      "0.37593984962406013\n",
      "0.0\n",
      "66.5\n",
      "5.0\n",
      "1978340572.134722\n",
      "1.1286366155414684\n",
      "13\n",
      "5.0\n"
     ]
    }
   ],
   "source": [
    "a = 5 # целое число (int)\n",
    "b = 13.3 # число с плавающей точкой (десятичная дробь/float)\n",
    "# функция print() выводит на печать\n",
    "print(a + b)\n",
    "print(a - b)\n",
    "print(abs(a - b)) # модуль\n",
    "print(a/b)\n",
    "print(a//b) # целая часть от деления\n",
    "print(a*b)\n",
    "print(a%b) # целая часть от деления\n",
    "print(a**b) # возведение в степень\n",
    "print(a**(1/b)) # взятие корня степени b\n",
    "print(int(b)) # берёт нижнюю целую часть числа\n",
    "print(float(a)) # переводит в тип float"
   ]
  },
  {
   "cell_type": "markdown",
   "metadata": {},
   "source": [
    "### Основные типы данных"
   ]
  },
  {
   "cell_type": "markdown",
   "metadata": {},
   "source": [
    "#### Список (list)"
   ]
  },
  {
   "cell_type": "code",
   "execution_count": 138,
   "metadata": {},
   "outputs": [
    {
     "name": "stdout",
     "output_type": "stream",
     "text": [
      "[1, 1, 2, 3, 5, 8, 13]\n",
      "[-1, 0, 1, 0, 0, 10]\n",
      "[0, 1, 2, 3, 4, 5, 6, 7, 8, 9, 10]\n",
      "[]\n"
     ]
    }
   ],
   "source": [
    "a = [1, 1, 2, 3, 5, 8, 13]\n",
    "b = list([-1, 0, 1, 0, 0, 10])\n",
    "c = [0, 1, 2, 3, 4, 5, 6, 7, 8, 9, 10]\n",
    "d = [] # пустой список\n",
    "print(a)\n",
    "print(b)\n",
    "print(c)\n",
    "print(d)"
   ]
  },
  {
   "cell_type": "code",
   "execution_count": 139,
   "metadata": {},
   "outputs": [
    {
     "name": "stdout",
     "output_type": "stream",
     "text": [
      "7\n",
      "6\n",
      "11\n",
      "0\n"
     ]
    }
   ],
   "source": [
    "#  возвращает длину списка\n",
    "print(len(a))\n",
    "print(len(b))\n",
    "print(len(c))\n",
    "print(len(d))"
   ]
  },
  {
   "cell_type": "code",
   "execution_count": 37,
   "metadata": {},
   "outputs": [
    {
     "name": "stdout",
     "output_type": "stream",
     "text": [
      "33\n",
      "10\n",
      "55\n"
     ]
    }
   ],
   "source": [
    "# возвращает сумму элементов списка\n",
    "print(sum(a))\n",
    "print(sum(b))\n",
    "print(sum(c))"
   ]
  },
  {
   "cell_type": "code",
   "execution_count": 39,
   "metadata": {},
   "outputs": [
    {
     "name": "stdout",
     "output_type": "stream",
     "text": [
      "[1, 1, 2, 3, 5, 8, 13, -1, 0, 1, 0, 0, 10]\n",
      "[1, 1, 2, 3, 5, 8, 13, 0, 1, 2, 3, 4, 5, 6, 7, 8, 9, 10, -1, 0, 1, 0, 0, 10]\n"
     ]
    }
   ],
   "source": [
    "# возвращает конкатенированный список\n",
    "print(a + b) \n",
    "print(a + c + b)"
   ]
  },
  {
   "cell_type": "markdown",
   "metadata": {},
   "source": [
    "Слайсинг:"
   ]
  },
  {
   "cell_type": "code",
   "execution_count": 43,
   "metadata": {},
   "outputs": [
    {
     "name": "stdout",
     "output_type": "stream",
     "text": [
      "[0, 1, 2]\n"
     ]
    }
   ],
   "source": [
    "# вернёт часть списка - нулевой, первый и второй (всего 3 элемента) элементы. В Питоне индексация начинается с 0.\n",
    "print(c[:3])"
   ]
  },
  {
   "cell_type": "code",
   "execution_count": 48,
   "metadata": {},
   "outputs": [
    {
     "name": "stdout",
     "output_type": "stream",
     "text": [
      "[5, 6, 7, 8, 9]\n"
     ]
    }
   ],
   "source": [
    "# вернёт часть списка - с 5ой позиции (помним что индексация с 0) по предпоследний элемент.\n",
    "print(c[5:-1])"
   ]
  },
  {
   "cell_type": "code",
   "execution_count": 54,
   "metadata": {},
   "outputs": [
    {
     "name": "stdout",
     "output_type": "stream",
     "text": [
      "[0, 2, 4, 6, 8]\n"
     ]
    }
   ],
   "source": [
    "# Вернётся все элементы с 0ого по предпоследний с шагом 2\n",
    "print(c[0:-1:2])"
   ]
  },
  {
   "cell_type": "code",
   "execution_count": 55,
   "metadata": {},
   "outputs": [
    {
     "name": "stdout",
     "output_type": "stream",
     "text": [
      "[10, 9, 8, 7, 6, 5, 4, 3, 2, 1, 0]\n"
     ]
    }
   ],
   "source": [
    "# Перевернёт список с обратную сторону\n",
    "print(c[::-1])"
   ]
  },
  {
   "cell_type": "code",
   "execution_count": 93,
   "metadata": {},
   "outputs": [
    {
     "name": "stdout",
     "output_type": "stream",
     "text": [
      "[0, 1, 2, 3, 4, 5, 6, 7, 8, 9, 10, -100]\n"
     ]
    }
   ],
   "source": [
    "# Добавление 1 значения в список\n",
    "c.append(-100)\n",
    "print(c)\n",
    "# Что будет если исполнить эту ячейку ещё раз?"
   ]
  },
  {
   "cell_type": "code",
   "execution_count": 95,
   "metadata": {},
   "outputs": [
    {
     "name": "stdout",
     "output_type": "stream",
     "text": [
      "[0, 1, 2, 3, 4, 5, 6, 7, 8, 9, 10, -100, -1, -2, -3, [-1, -2, -3]]\n"
     ]
    }
   ],
   "source": [
    "# Можно добавить несколько значений в список\n",
    "c.extend([-1, -2, -3])\n",
    "print(c)\n",
    "# Что будет если сделать то же самое, но коммандой .append()?"
   ]
  },
  {
   "cell_type": "code",
   "execution_count": 100,
   "metadata": {},
   "outputs": [
    {
     "name": "stdout",
     "output_type": "stream",
     "text": [
      "[15, 15, 0, 1, 2, 3, 4, 5, 6, 7, 8, 9, 10, -100, -1, -2, -3]\n",
      "[-1, -2, -3, 15, 15, 0, 1, 2, 3, 4, 5, 6, 7, 8, 9, 10, -100, -1, -2, -3]\n"
     ]
    }
   ],
   "source": [
    "# Можно добавить элемент вначало списка\n",
    "c[0:0] = [15]\n",
    "print(c)\n",
    "# Можно так же добавить несколько элементов вначало списка\n",
    "c[0:0] = [-1, -2, -3]\n",
    "print(c)"
   ]
  },
  {
   "cell_type": "code",
   "execution_count": 90,
   "metadata": {},
   "outputs": [
    {
     "name": "stdout",
     "output_type": "stream",
     "text": [
      "[0, 2, 3, 4, 5, 6, 7, 8, 9, 10]\n",
      "[-1, 1, 0, 0, 10]\n"
     ]
    }
   ],
   "source": [
    "# Можно удалить значение из списка\n",
    "c.remove(1)\n",
    "print(c)\n",
    "# Если таких значений в списке несколько - удалит первое\n",
    "b.remove(0)\n",
    "print(b)"
   ]
  },
  {
   "cell_type": "markdown",
   "metadata": {},
   "source": [
    "#### Множество (set)"
   ]
  },
  {
   "cell_type": "markdown",
   "metadata": {},
   "source": [
    "Множество, как в математике - список уникальных элементов"
   ]
  },
  {
   "cell_type": "code",
   "execution_count": 72,
   "metadata": {},
   "outputs": [
    {
     "name": "stdout",
     "output_type": "stream",
     "text": [
      "{1, 2, 3, 4, 5, 6}\n",
      "{100, 5, 6, 200, 300}\n"
     ]
    }
   ],
   "source": [
    "a = set([1, 1, 1, 2, 3, 4, 4, 4, 5, 6]) \n",
    "b = {5, 5, 5, 6, 6, 6, 100, 200, 200, 200, 300, 300, 300}\n",
    "print(a)\n",
    "print(b)"
   ]
  },
  {
   "cell_type": "code",
   "execution_count": 73,
   "metadata": {},
   "outputs": [
    {
     "name": "stdout",
     "output_type": "stream",
     "text": [
      "21\n",
      "611\n"
     ]
    }
   ],
   "source": [
    "# возвращает сумму элементов множества\n",
    "print(sum(a))\n",
    "print(sum(b))"
   ]
  },
  {
   "cell_type": "code",
   "execution_count": 74,
   "metadata": {},
   "outputs": [
    {
     "name": "stdout",
     "output_type": "stream",
     "text": [
      "{1, 2, 3, 4, 5, 6, 100, 200, 300}\n",
      "{1, 2, 3, 4}\n",
      "{1, 2, 3, 4, 200, 100, 300}\n"
     ]
    }
   ],
   "source": [
    "# множества можно объединять\n",
    "print(a.union(b))\n",
    "# можно брать разность \n",
    "print(a.difference(b)) # что вернёт b.difference(a) ?\n",
    "# можно брать симметрическую разность\n",
    "print(a.symmetric_difference(b))"
   ]
  },
  {
   "cell_type": "markdown",
   "metadata": {},
   "source": [
    "Полезное свойство множества: если вам нужно найти список уникальных значений - можно взять set() от списка"
   ]
  },
  {
   "cell_type": "code",
   "execution_count": 76,
   "metadata": {},
   "outputs": [
    {
     "name": "stdout",
     "output_type": "stream",
     "text": [
      "[1, 1, 1, 2, 3, 4, 4, 4, 5, 6]\n",
      "{1, 2, 3, 4, 5, 6}\n"
     ]
    }
   ],
   "source": [
    "a = [1, 1, 1, 2, 3, 4, 4, 4, 5, 6]\n",
    "print(a)\n",
    "print(set(a))"
   ]
  },
  {
   "cell_type": "markdown",
   "metadata": {},
   "source": [
    "#### Строка (string)"
   ]
  },
  {
   "cell_type": "code",
   "execution_count": 108,
   "metadata": {},
   "outputs": [
    {
     "name": "stdout",
     "output_type": "stream",
     "text": [
      "Some text, saved as a string\n",
      "One more text - why not?!\n"
     ]
    }
   ],
   "source": [
    "a = 'Some text, saved as a string'\n",
    "b = 'One more text - why not?!'\n",
    "print(a)\n",
    "print(b)"
   ]
  },
  {
   "cell_type": "code",
   "execution_count": 103,
   "metadata": {},
   "outputs": [
    {
     "name": "stdout",
     "output_type": "stream",
     "text": [
      "Some text, saved as a stringOne more text - why not?!\n",
      "Some text, saved as a string One more text - why not?!\n"
     ]
    }
   ],
   "source": [
    "# Строки можно конкатенировать\n",
    "print(a + b)\n",
    "print(a + ' ' + b)"
   ]
  },
  {
   "cell_type": "code",
   "execution_count": 114,
   "metadata": {},
   "outputs": [
    {
     "name": "stdout",
     "output_type": "stream",
     "text": [
      "['Some', 'text,', 'saved', 'as', 'a', 'string']\n",
      "Some text, saved as a string\n"
     ]
    }
   ],
   "source": [
    "# Строку можно \"расщепить\" в список\n",
    "g = a.split()\n",
    "print(g)\n",
    "# А можно обратно объединить список в строку\n",
    "f = ' '.join(g)\n",
    "print(f)"
   ]
  },
  {
   "cell_type": "code",
   "execution_count": 123,
   "metadata": {},
   "outputs": [
    {
     "name": "stdout",
     "output_type": "stream",
     "text": [
      "some text, saved as a string\n",
      "SOME TEXT, SAVED AS A STRING\n"
     ]
    }
   ],
   "source": [
    "# Можно привести текст к нижнему регистру\n",
    "print(a.lower())\n",
    "# Или все буквы капслоком\n",
    "print(a.upper())"
   ]
  },
  {
   "cell_type": "code",
   "execution_count": 121,
   "metadata": {},
   "outputs": [
    {
     "name": "stdout",
     "output_type": "stream",
     "text": [
      "Some text, <!!!>aved a<!!!> a <!!!>tring\n",
      "Some text, aved a a tring\n"
     ]
    }
   ],
   "source": [
    "# Можно заменить какой-то символ в строке на другой\n",
    "print(a.replace('s', '<!!!>'))\n",
    "# Как с помощью методы .replace() удалить символ ?"
   ]
  },
  {
   "cell_type": "code",
   "execution_count": 127,
   "metadata": {},
   "outputs": [
    {
     "name": "stdout",
     "output_type": "stream",
     "text": [
      "28\n",
      "25\n"
     ]
    }
   ],
   "source": [
    "# Считает длины текстов - количество символов (символ ' ' - тоже считается за 1, а '' - пустой символ, то есть не считается)\n",
    "print(len(a))\n",
    "print(len(b))"
   ]
  },
  {
   "cell_type": "code",
   "execution_count": 129,
   "metadata": {},
   "outputs": [
    {
     "name": "stdout",
     "output_type": "stream",
     "text": [
      "e text, save\n",
      "!?ton yhw - txet erom enO\n",
      "saved\n"
     ]
    }
   ],
   "source": [
    "# По строкам тоже можно делать слайсинги\n",
    "print(a[3:15])\n",
    "print(b[::-1])\n",
    "# Если нам нужно например 3 слово, то можно сделать так\n",
    "print(a.split()[2])"
   ]
  },
  {
   "cell_type": "markdown",
   "metadata": {},
   "source": [
    "#### Словарь (dict)"
   ]
  },
  {
   "cell_type": "markdown",
   "metadata": {},
   "source": [
    "Словарь - он и в Африке словарь - по ключу выдаёт значение"
   ]
  },
  {
   "cell_type": "code",
   "execution_count": 143,
   "metadata": {},
   "outputs": [
    {
     "name": "stdout",
     "output_type": "stream",
     "text": [
      "{'Маша': 19, 'Света': 21, 'Кирилл': 20, 'Василий Петрович': 45}\n",
      "{'Маша': 60, 'Света': 100, 'Кирилл': 50, 'Василий Петрович': 60}\n"
     ]
    }
   ],
   "source": [
    "names_dict = {'Маша': 19, \"Света\": 21, \"Кирилл\": 20, \"Василий Петрович\": 45}\n",
    "salary_dict = dict(zip(['Маша', \"Света\", \"Кирилл\", \"Василий Петрович\"], [60, 100, 50, 60]))\n",
    "print(new_dict)\n",
    "print(salary_dict)"
   ]
  },
  {
   "cell_type": "code",
   "execution_count": 133,
   "metadata": {},
   "outputs": [
    {
     "name": "stdout",
     "output_type": "stream",
     "text": [
      "19\n",
      "60\n"
     ]
    }
   ],
   "source": [
    "# Мы хотим узнать возраст Маши\n",
    "print(names_dict['Маша'])\n",
    "# Сколько зарабатывает Василий Петрович\n",
    "print(salary_dict['Василий Петрович'])"
   ]
  },
  {
   "cell_type": "code",
   "execution_count": 134,
   "metadata": {},
   "outputs": [
    {
     "name": "stdout",
     "output_type": "stream",
     "text": [
      "dict_keys(['Маша', 'Света', 'Кирилл', 'Василий Петрович'])\n"
     ]
    }
   ],
   "source": [
    "# Какие ключи есть в нашем словаре\n",
    "print(names_dict.keys())"
   ]
  },
  {
   "cell_type": "code",
   "execution_count": 135,
   "metadata": {},
   "outputs": [
    {
     "name": "stdout",
     "output_type": "stream",
     "text": [
      "['Маша', 'Света', 'Кирилл', 'Василий Петрович']\n"
     ]
    }
   ],
   "source": [
    "# Из этих ключей можно сделать список\n",
    "print(list(names_dict.keys()))"
   ]
  },
  {
   "cell_type": "code",
   "execution_count": 141,
   "metadata": {},
   "outputs": [
    {
     "name": "stdout",
     "output_type": "stream",
     "text": [
      "[19, 21, 20, 45]\n"
     ]
    }
   ],
   "source": [
    "# То же самое, можно сделать со значениями\n",
    "print(list(names_dict.values()))"
   ]
  },
  {
   "cell_type": "code",
   "execution_count": 144,
   "metadata": {},
   "outputs": [
    {
     "name": "stdout",
     "output_type": "stream",
     "text": [
      "{'Маша': 60, 'Света': 100, 'Кирилл': 90, 'Василий Петрович': 60}\n"
     ]
    }
   ],
   "source": [
    "# Кирилла повысили! Ему прибавили зп на Х, где Х это разница зп Светы и Василия Петровича - обновим словарь с зп\n",
    "salary_dict['Кирилл'] = salary_dict['Кирилл'] + salary_dict['Света'] - salary_dict['Василий Петрович']\n",
    "# Можно было так\n",
    "# salary_dict['Кирилл'] += salary_dict['Света'] - salary_dict['Василий Петрович']\n",
    "print(salary_dict)"
   ]
  },
  {
   "cell_type": "code",
   "execution_count": 152,
   "metadata": {},
   "outputs": [
    {
     "name": "stdout",
     "output_type": "stream",
     "text": [
      "{'Света': 21, 'Кирилл': 20, 'Василий Петрович': 45, 'Персивальда': 19}\n",
      "{'Света': 100, 'Кирилл': 90, 'Василий Петрович': 60, 'Персивальда': 60}\n"
     ]
    }
   ],
   "source": [
    "# Маша хочет знаменитой певицей, и думает что имя Персивальда ей подходит больше - обновим таблицу\n",
    "names_dict['Персивальда'] = names_dict['Маша']\n",
    "del names_dict['Маша'] # удаляем старую запись\n",
    "salary_dict['Персивальда'] = salary_dict['Маша']\n",
    "del salary_dict['Маша']\n",
    "print(names_dict)\n",
    "print(salary_dict)"
   ]
  },
  {
   "cell_type": "code",
   "execution_count": 153,
   "metadata": {},
   "outputs": [
    {
     "data": {
      "text/plain": [
       "{'Света': 21, 'Кирилл': 20, 'Василий Петрович': 45, 'Персивальда': 19}"
      ]
     },
     "execution_count": 153,
     "metadata": {},
     "output_type": "execute_result"
    }
   ],
   "source": [
    "# В компании друзей новый человек - Костя. Ему 30 лет, и он зарабатывает 80к. Давайте добавим его в словари двумя способами\n",
    "# 1 способ\n",
    "names_dict2 = {'Костя': 30}\n"
   ]
  },
  {
   "cell_type": "code",
   "execution_count": null,
   "metadata": {},
   "outputs": [],
   "source": []
  }
 ],
 "metadata": {
  "kernelspec": {
   "display_name": "Python 3",
   "language": "python",
   "name": "python3"
  },
  "language_info": {
   "codemirror_mode": {
    "name": "ipython",
    "version": 3
   },
   "file_extension": ".py",
   "mimetype": "text/x-python",
   "name": "python",
   "nbconvert_exporter": "python",
   "pygments_lexer": "ipython3",
   "version": "3.7.1"
  }
 },
 "nbformat": 4,
 "nbformat_minor": 2
}
