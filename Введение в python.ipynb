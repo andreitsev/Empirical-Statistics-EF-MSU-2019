{
 "cells": [
  {
   "cell_type": "markdown",
   "metadata": {},
   "source": [
    "## Основы питона"
   ]
  },
  {
   "cell_type": "markdown",
   "metadata": {},
   "source": [
    "На данном занятии мы познакомимся с основами языка python и некоторыми библиотеками, которые нам в дальнейшей понадобятся"
   ]
  },
  {
   "cell_type": "markdown",
   "metadata": {},
   "source": [
    "Ссылки на полезные источники:"
   ]
  },
  {
   "cell_type": "markdown",
   "metadata": {},
   "source": [
    "http://www.machinelearning.ru/wiki/images/9/93/PZAD2017_c1_python.pdf - полноценный обзор основных вещей\n",
    "\n",
    "https://github.com/Dyakonov/python_hacks/blob/master/dj_python_0_intro_20181004.ipynb - краткое введение\n",
    "\n",
    "https://github.com/Dyakonov/IML/blob/master/IML2018_03_numpy_04.pdf - библиотеки numpy, matplotlib, scipy\n",
    "\n",
    "https://github.com/Dyakonov/IML/blob/master/IML2018_08_pandas_01.pdf - библиотека pandas\n",
    "\n",
    "https://github.com/arti32lehtonen/mmp_prac_2017/blob/master/01.%20Introduction%20to%20Python/01_notebook.ipynb - аналог этого ноутбука"
   ]
  },
  {
   "cell_type": "markdown",
   "metadata": {},
   "source": [
    "Поехали!"
   ]
  },
  {
   "cell_type": "markdown",
   "metadata": {},
   "source": [
    "Питон можно использовать как калькулятор"
   ]
  },
  {
   "cell_type": "code",
   "execution_count": 1,
   "metadata": {},
   "outputs": [
    {
     "name": "stdout",
     "output_type": "stream",
     "text": [
      "18.3\n",
      "-8.3\n",
      "8.3\n",
      "0.37593984962406013\n",
      "0.0\n",
      "66.5\n",
      "5.0\n",
      "1978340572.134722\n",
      "1.1286366155414684\n",
      "13\n",
      "5.0\n",
      "False\n",
      "True\n",
      "False\n"
     ]
    }
   ],
   "source": [
    "a = 5 # целое число (int)\n",
    "b = 13.3 # число с плавающей точкой (десятичная дробь/float)\n",
    "# функция print() выводит на печать\n",
    "print(a + b)\n",
    "print(a - b)\n",
    "print(abs(a - b)) # модуль\n",
    "print(a/b)\n",
    "print(a//b) # целая часть от деления\n",
    "print(a*b)\n",
    "print(a%b) # целая часть от деления\n",
    "print(a**b) # возведение в степень\n",
    "print(a**(1/b)) # взятие корня степени b\n",
    "print(int(b)) # берёт нижнюю целую часть числа\n",
    "print(float(a)) # переводит в тип float\n",
    "print(a == b) # Возвращает True, если a = b и False иначе\n",
    "print(a != b) # Возвращает True, если a =/= b и False иначе\n",
    "print(a > b) # Возвращает True, если a > b и False иначе"
   ]
  },
  {
   "cell_type": "markdown",
   "metadata": {},
   "source": [
    "### Основные типы данных"
   ]
  },
  {
   "cell_type": "markdown",
   "metadata": {},
   "source": [
    "#### Список (list)"
   ]
  },
  {
   "cell_type": "code",
   "execution_count": 2,
   "metadata": {},
   "outputs": [
    {
     "name": "stdout",
     "output_type": "stream",
     "text": [
      "[1, 1, 2, 3, 5, 8, 13]\n",
      "[-1, 0, 1, 0, 0, 10]\n",
      "[0, 1, 2, 3, 4, 5, 6, 7, 8, 9, 10]\n",
      "[]\n"
     ]
    }
   ],
   "source": [
    "a = [1, 1, 2, 3, 5, 8, 13]\n",
    "b = list([-1, 0, 1, 0, 0, 10])\n",
    "c = [0, 1, 2, 3, 4, 5, 6, 7, 8, 9, 10]\n",
    "d = [] # пустой список\n",
    "print(a)\n",
    "print(b)\n",
    "print(c)\n",
    "print(d)"
   ]
  },
  {
   "cell_type": "code",
   "execution_count": 3,
   "metadata": {},
   "outputs": [
    {
     "name": "stdout",
     "output_type": "stream",
     "text": [
      "7\n",
      "6\n",
      "11\n",
      "0\n"
     ]
    }
   ],
   "source": [
    "#  возвращает длину списка\n",
    "print(len(a))\n",
    "print(len(b))\n",
    "print(len(c))\n",
    "print(len(d))"
   ]
  },
  {
   "cell_type": "code",
   "execution_count": 4,
   "metadata": {},
   "outputs": [
    {
     "name": "stdout",
     "output_type": "stream",
     "text": [
      "33\n",
      "10\n",
      "55\n"
     ]
    }
   ],
   "source": [
    "# возвращает сумму элементов списка\n",
    "print(sum(a))\n",
    "print(sum(b))\n",
    "print(sum(c))"
   ]
  },
  {
   "cell_type": "code",
   "execution_count": 5,
   "metadata": {},
   "outputs": [
    {
     "name": "stdout",
     "output_type": "stream",
     "text": [
      "[1, 1, 2, 3, 5, 8, 13, -1, 0, 1, 0, 0, 10]\n",
      "[1, 1, 2, 3, 5, 8, 13, 0, 1, 2, 3, 4, 5, 6, 7, 8, 9, 10, -1, 0, 1, 0, 0, 10]\n"
     ]
    }
   ],
   "source": [
    "# возвращает конкатенированный список\n",
    "print(a + b) \n",
    "print(a + c + b)"
   ]
  },
  {
   "cell_type": "markdown",
   "metadata": {},
   "source": [
    "Слайсинг:"
   ]
  },
  {
   "cell_type": "code",
   "execution_count": 6,
   "metadata": {},
   "outputs": [
    {
     "name": "stdout",
     "output_type": "stream",
     "text": [
      "[0, 1, 2]\n"
     ]
    }
   ],
   "source": [
    "# вернёт часть списка - нулевой, первый и второй (всего 3 элемента) элементы. В Питоне индексация начинается с 0.\n",
    "print(c[:3])"
   ]
  },
  {
   "cell_type": "code",
   "execution_count": 7,
   "metadata": {},
   "outputs": [
    {
     "name": "stdout",
     "output_type": "stream",
     "text": [
      "[5, 6, 7, 8, 9]\n"
     ]
    }
   ],
   "source": [
    "# вернёт часть списка - с 5ой позиции (помним что индексация с 0) по предпоследний элемент.\n",
    "print(c[5:-1])"
   ]
  },
  {
   "cell_type": "code",
   "execution_count": 8,
   "metadata": {},
   "outputs": [
    {
     "name": "stdout",
     "output_type": "stream",
     "text": [
      "[0, 2, 4, 6, 8]\n"
     ]
    }
   ],
   "source": [
    "# Вернётся все элементы с 0ого по предпоследний с шагом 2\n",
    "print(c[0:-1:2])"
   ]
  },
  {
   "cell_type": "code",
   "execution_count": 9,
   "metadata": {},
   "outputs": [
    {
     "name": "stdout",
     "output_type": "stream",
     "text": [
      "[10, 9, 8, 7, 6, 5, 4, 3, 2, 1, 0]\n"
     ]
    }
   ],
   "source": [
    "# Перевернёт список с обратную сторону\n",
    "print(c[::-1])"
   ]
  },
  {
   "cell_type": "code",
   "execution_count": 10,
   "metadata": {},
   "outputs": [
    {
     "name": "stdout",
     "output_type": "stream",
     "text": [
      "[0, 1, 2, 3, 4, 5, 6, 7, 8, 9, 10, -100]\n"
     ]
    }
   ],
   "source": [
    "# Добавление 1 значения в список\n",
    "c.append(-100)\n",
    "print(c)\n",
    "# Что будет если исполнить эту ячейку ещё раз?"
   ]
  },
  {
   "cell_type": "code",
   "execution_count": 11,
   "metadata": {},
   "outputs": [
    {
     "name": "stdout",
     "output_type": "stream",
     "text": [
      "[0, 1, 2, 3, 4, 5, 6, 7, 8, 9, 10, -100, -1, -2, -3]\n"
     ]
    }
   ],
   "source": [
    "# Можно добавить несколько значений в список\n",
    "c.extend([-1, -2, -3])\n",
    "print(c)\n",
    "# Что будет если сделать то же самое, но коммандой .append()?"
   ]
  },
  {
   "cell_type": "code",
   "execution_count": 12,
   "metadata": {},
   "outputs": [
    {
     "name": "stdout",
     "output_type": "stream",
     "text": [
      "[15, 0, 1, 2, 3, 4, 5, 6, 7, 8, 9, 10, -100, -1, -2, -3]\n",
      "[-1, -2, -3, 15, 0, 1, 2, 3, 4, 5, 6, 7, 8, 9, 10, -100, -1, -2, -3]\n"
     ]
    }
   ],
   "source": [
    "# Можно добавить элемент вначало списка\n",
    "c[0:0] = [15]\n",
    "print(c)\n",
    "# Можно так же добавить несколько элементов вначало списка\n",
    "c[0:0] = [-1, -2, -3]\n",
    "print(c)"
   ]
  },
  {
   "cell_type": "code",
   "execution_count": 13,
   "metadata": {},
   "outputs": [
    {
     "name": "stdout",
     "output_type": "stream",
     "text": [
      "[-1, -2, -3, 15, 0, 2, 3, 4, 5, 6, 7, 8, 9, 10, -100, -1, -2, -3]\n",
      "[-1, 1, 0, 0, 10]\n"
     ]
    }
   ],
   "source": [
    "# Можно удалить значение из списка\n",
    "c.remove(1)\n",
    "print(c)\n",
    "# Если таких значений в списке несколько - удалит первое\n",
    "b.remove(0)\n",
    "print(b)"
   ]
  },
  {
   "cell_type": "markdown",
   "metadata": {},
   "source": [
    "#### Множество (set)"
   ]
  },
  {
   "cell_type": "markdown",
   "metadata": {},
   "source": [
    "Множество, как в математике - список уникальных элементов"
   ]
  },
  {
   "cell_type": "code",
   "execution_count": 14,
   "metadata": {},
   "outputs": [
    {
     "name": "stdout",
     "output_type": "stream",
     "text": [
      "{1, 2, 3, 4, 5, 6}\n",
      "{100, 5, 6, 200, 300}\n"
     ]
    }
   ],
   "source": [
    "a = set([1, 1, 1, 2, 3, 4, 4, 4, 5, 6]) \n",
    "b = {5, 5, 5, 6, 6, 6, 100, 200, 200, 200, 300, 300, 300}\n",
    "print(a)\n",
    "print(b)"
   ]
  },
  {
   "cell_type": "code",
   "execution_count": 15,
   "metadata": {},
   "outputs": [
    {
     "name": "stdout",
     "output_type": "stream",
     "text": [
      "21\n",
      "611\n"
     ]
    }
   ],
   "source": [
    "# возвращает сумму элементов множества\n",
    "print(sum(a))\n",
    "print(sum(b))"
   ]
  },
  {
   "cell_type": "code",
   "execution_count": 16,
   "metadata": {},
   "outputs": [
    {
     "name": "stdout",
     "output_type": "stream",
     "text": [
      "{1, 2, 3, 4, 5, 6, 100, 200, 300}\n",
      "{1, 2, 3, 4}\n",
      "{1, 2, 3, 4, 200, 100, 300}\n"
     ]
    }
   ],
   "source": [
    "# множества можно объединять\n",
    "print(a.union(b))\n",
    "# можно брать разность \n",
    "print(a.difference(b)) # что вернёт b.difference(a) ?\n",
    "# можно брать симметрическую разность\n",
    "print(a.symmetric_difference(b))"
   ]
  },
  {
   "cell_type": "markdown",
   "metadata": {},
   "source": [
    "Полезное свойство множества: если вам нужно найти список уникальных значений - можно взять set() от списка"
   ]
  },
  {
   "cell_type": "code",
   "execution_count": 17,
   "metadata": {},
   "outputs": [
    {
     "name": "stdout",
     "output_type": "stream",
     "text": [
      "[1, 1, 1, 2, 3, 4, 4, 4, 5, 6]\n",
      "{1, 2, 3, 4, 5, 6}\n"
     ]
    }
   ],
   "source": [
    "a = [1, 1, 1, 2, 3, 4, 4, 4, 5, 6]\n",
    "print(a)\n",
    "print(set(a))"
   ]
  },
  {
   "cell_type": "markdown",
   "metadata": {},
   "source": [
    "#### Строка (string)"
   ]
  },
  {
   "cell_type": "code",
   "execution_count": 18,
   "metadata": {},
   "outputs": [
    {
     "name": "stdout",
     "output_type": "stream",
     "text": [
      "Some text, saved as a string\n",
      "One more text - why not?!\n"
     ]
    }
   ],
   "source": [
    "a = 'Some text, saved as a string'\n",
    "b = 'One more text - why not?!'\n",
    "print(a)\n",
    "print(b)"
   ]
  },
  {
   "cell_type": "code",
   "execution_count": 19,
   "metadata": {},
   "outputs": [
    {
     "name": "stdout",
     "output_type": "stream",
     "text": [
      "Some text, saved as a stringOne more text - why not?!\n",
      "Some text, saved as a string One more text - why not?!\n"
     ]
    }
   ],
   "source": [
    "# Строки можно конкатенировать\n",
    "print(a + b)\n",
    "print(a + ' ' + b)"
   ]
  },
  {
   "cell_type": "code",
   "execution_count": 20,
   "metadata": {},
   "outputs": [
    {
     "name": "stdout",
     "output_type": "stream",
     "text": [
      "['Some', 'text,', 'saved', 'as', 'a', 'string']\n",
      "Some text, saved as a string\n"
     ]
    }
   ],
   "source": [
    "# Строку можно \"расщепить\" в список\n",
    "g = a.split()\n",
    "print(g)\n",
    "# А можно обратно объединить список в строку\n",
    "f = ' '.join(g)\n",
    "print(f)"
   ]
  },
  {
   "cell_type": "code",
   "execution_count": 21,
   "metadata": {},
   "outputs": [
    {
     "name": "stdout",
     "output_type": "stream",
     "text": [
      "some text, saved as a string\n",
      "SOME TEXT, SAVED AS A STRING\n"
     ]
    }
   ],
   "source": [
    "# Можно привести текст к нижнему регистру\n",
    "print(a.lower())\n",
    "# Или все буквы капслоком\n",
    "print(a.upper())"
   ]
  },
  {
   "cell_type": "code",
   "execution_count": 22,
   "metadata": {},
   "outputs": [
    {
     "name": "stdout",
     "output_type": "stream",
     "text": [
      "Some text, <!!!>aved a<!!!> a <!!!>tring\n"
     ]
    }
   ],
   "source": [
    "# Можно заменить какой-то символ в строке на другой\n",
    "print(a.replace('s', '<!!!>'))\n",
    "# Как с помощью методы .replace() удалить символ ?"
   ]
  },
  {
   "cell_type": "code",
   "execution_count": 23,
   "metadata": {},
   "outputs": [
    {
     "name": "stdout",
     "output_type": "stream",
     "text": [
      "28\n",
      "25\n"
     ]
    }
   ],
   "source": [
    "# Считает длины текстов - количество символов (символ ' ' - тоже считается за 1, а '' - пустой символ, то есть не считается)\n",
    "print(len(a))\n",
    "print(len(b))"
   ]
  },
  {
   "cell_type": "code",
   "execution_count": 24,
   "metadata": {},
   "outputs": [
    {
     "name": "stdout",
     "output_type": "stream",
     "text": [
      "e text, save\n",
      "!?ton yhw - txet erom enO\n",
      "saved\n"
     ]
    }
   ],
   "source": [
    "# По строкам тоже можно делать слайсинги\n",
    "print(a[3:15])\n",
    "print(b[::-1])\n",
    "# Если нам нужно например 3 слово, то можно сделать так\n",
    "print(a.split()[2])"
   ]
  },
  {
   "cell_type": "markdown",
   "metadata": {},
   "source": [
    "#### Словарь (dict)"
   ]
  },
  {
   "cell_type": "markdown",
   "metadata": {},
   "source": [
    "Словарь - он и в Африке словарь - по ключу выдаёт значение"
   ]
  },
  {
   "cell_type": "code",
   "execution_count": 1,
   "metadata": {},
   "outputs": [
    {
     "name": "stdout",
     "output_type": "stream",
     "text": [
      "{'Маша': 19, 'Света': 21, 'Кирилл': 20, 'Василий Петрович': 45}\n",
      "{'Маша': 60, 'Света': 100, 'Кирилл': 50, 'Василий Петрович': 60}\n"
     ]
    }
   ],
   "source": [
    "names_dict = {'Маша': 19, \"Света\": 21, \"Кирилл\": 20, \"Василий Петрович\": 45}\n",
    "salary_dict = dict(zip(['Маша', \"Света\", \"Кирилл\", \"Василий Петрович\"], [60, 100, 50, 60]))\n",
    "print(names_dict)\n",
    "print(salary_dict)"
   ]
  },
  {
   "cell_type": "code",
   "execution_count": 26,
   "metadata": {},
   "outputs": [
    {
     "name": "stdout",
     "output_type": "stream",
     "text": [
      "19\n",
      "60\n"
     ]
    }
   ],
   "source": [
    "# Мы хотим узнать возраст Маши\n",
    "print(names_dict['Маша'])\n",
    "# Сколько зарабатывает Василий Петрович\n",
    "print(salary_dict['Василий Петрович'])"
   ]
  },
  {
   "cell_type": "code",
   "execution_count": 27,
   "metadata": {},
   "outputs": [
    {
     "name": "stdout",
     "output_type": "stream",
     "text": [
      "dict_keys(['Маша', 'Света', 'Кирилл', 'Василий Петрович'])\n"
     ]
    }
   ],
   "source": [
    "# Какие ключи есть в нашем словаре\n",
    "print(names_dict.keys())"
   ]
  },
  {
   "cell_type": "code",
   "execution_count": 28,
   "metadata": {},
   "outputs": [
    {
     "name": "stdout",
     "output_type": "stream",
     "text": [
      "['Маша', 'Света', 'Кирилл', 'Василий Петрович']\n"
     ]
    }
   ],
   "source": [
    "# Из этих ключей можно сделать список\n",
    "print(list(names_dict.keys()))"
   ]
  },
  {
   "cell_type": "code",
   "execution_count": 29,
   "metadata": {},
   "outputs": [
    {
     "name": "stdout",
     "output_type": "stream",
     "text": [
      "[19, 21, 20, 45]\n"
     ]
    }
   ],
   "source": [
    "# То же самое, можно сделать со значениями\n",
    "print(list(names_dict.values()))"
   ]
  },
  {
   "cell_type": "code",
   "execution_count": 30,
   "metadata": {},
   "outputs": [
    {
     "name": "stdout",
     "output_type": "stream",
     "text": [
      "{'Маша': 60, 'Света': 100, 'Кирилл': 90, 'Василий Петрович': 60}\n"
     ]
    }
   ],
   "source": [
    "# Кирилла повысили! Ему прибавили зп на Х, где Х это разница зп Светы и Василия Петровича - обновим словарь с зп\n",
    "salary_dict['Кирилл'] = salary_dict['Кирилл'] + salary_dict['Света'] - salary_dict['Василий Петрович']\n",
    "# Можно было так\n",
    "# salary_dict['Кирилл'] += salary_dict['Света'] - salary_dict['Василий Петрович']\n",
    "print(salary_dict)"
   ]
  },
  {
   "cell_type": "code",
   "execution_count": 31,
   "metadata": {},
   "outputs": [
    {
     "name": "stdout",
     "output_type": "stream",
     "text": [
      "{'Света': 21, 'Кирилл': 20, 'Василий Петрович': 45, 'Персивальда': 19}\n",
      "{'Света': 100, 'Кирилл': 90, 'Василий Петрович': 60, 'Персивальда': 60}\n"
     ]
    }
   ],
   "source": [
    "# Маша хочет знаменитой певицей, и думает что имя Персивальда ей подходит больше - обновим таблицу\n",
    "names_dict['Персивальда'] = names_dict['Маша']\n",
    "del names_dict['Маша'] # удаляем старую запись\n",
    "salary_dict['Персивальда'] = salary_dict['Маша']\n",
    "del salary_dict['Маша']\n",
    "print(names_dict)\n",
    "print(salary_dict)"
   ]
  },
  {
   "cell_type": "code",
   "execution_count": 32,
   "metadata": {},
   "outputs": [
    {
     "name": "stdout",
     "output_type": "stream",
     "text": [
      "1 способ\n",
      "{'Света': 21, 'Кирилл': 20, 'Василий Петрович': 45, 'Персивальда': 19, 'Костя': 30}\n",
      "{'Света': 100, 'Кирилл': 90, 'Василий Петрович': 60, 'Персивальда': 60, 'Костя': 80}\n",
      "2 способ\n",
      "{'Света': 21, 'Кирилл': 20, 'Василий Петрович': 45, 'Персивальда': 19, 'Костя': 30}\n",
      "{'Света': 100, 'Кирилл': 90, 'Василий Петрович': 60, 'Персивальда': 60, 'Костя': 80}\n"
     ]
    }
   ],
   "source": [
    "# В компании друзей новый человек - Костя. Ему 30 лет, и он зарабатывает 80к. Давайте добавим его в словари двумя способами\n",
    "print('1 способ')\n",
    "names_dict2 = {'Костя': 30}\n",
    "salary_dict2 = {'Костя': 80}\n",
    "names_dict_all = {**names_dict, **names_dict2}\n",
    "print(names_dict_all)\n",
    "salary_dict_all = {**salary_dict, **salary_dict2}\n",
    "print(salary_dict_all)\n",
    "print('2 способ')\n",
    "names_dict.update({'Костя': 30})\n",
    "salary_dict.update({'Костя': 80})\n",
    "print(names_dict)\n",
    "print(salary_dict)"
   ]
  },
  {
   "cell_type": "markdown",
   "metadata": {},
   "source": [
    "#### Кортеж (tuple)"
   ]
  },
  {
   "cell_type": "markdown",
   "metadata": {},
   "source": [
    "Кортеж - то же самое, что список, только неизменяемый"
   ]
  },
  {
   "cell_type": "code",
   "execution_count": 33,
   "metadata": {},
   "outputs": [
    {
     "name": "stdout",
     "output_type": "stream",
     "text": [
      "(1, 2, 3, 4, 4, 3)\n",
      "(11, 22, 33, 44, 44, 33, 22)\n"
     ]
    }
   ],
   "source": [
    "a = tuple([1, 2, 3, 4, 4, 3])\n",
    "b = (11, 22, 33, 44, 44, 33, 22)\n",
    "print(a)\n",
    "print(b)"
   ]
  },
  {
   "cell_type": "code",
   "execution_count": 34,
   "metadata": {},
   "outputs": [
    {
     "name": "stdout",
     "output_type": "stream",
     "text": [
      "[1, 2, 3, 4]\n",
      "[1, 2, 3, -10]\n",
      "(1, 2, 3, 4)\n"
     ]
    },
    {
     "ename": "TypeError",
     "evalue": "'tuple' object does not support item assignment",
     "output_type": "error",
     "traceback": [
      "\u001b[1;31m---------------------------------------------------------------------------\u001b[0m",
      "\u001b[1;31mTypeError\u001b[0m                                 Traceback (most recent call last)",
      "\u001b[1;32m<ipython-input-34-4a1077897f45>\u001b[0m in \u001b[0;36m<module>\u001b[1;34m\u001b[0m\n\u001b[0;32m      6\u001b[0m \u001b[0ma\u001b[0m \u001b[1;33m=\u001b[0m \u001b[1;33m(\u001b[0m\u001b[1;36m1\u001b[0m\u001b[1;33m,\u001b[0m \u001b[1;36m2\u001b[0m\u001b[1;33m,\u001b[0m \u001b[1;36m3\u001b[0m\u001b[1;33m,\u001b[0m \u001b[1;36m4\u001b[0m\u001b[1;33m)\u001b[0m\u001b[1;33m\u001b[0m\u001b[1;33m\u001b[0m\u001b[0m\n\u001b[0;32m      7\u001b[0m \u001b[0mprint\u001b[0m\u001b[1;33m(\u001b[0m\u001b[0ma\u001b[0m\u001b[1;33m)\u001b[0m\u001b[1;33m\u001b[0m\u001b[1;33m\u001b[0m\u001b[0m\n\u001b[1;32m----> 8\u001b[1;33m \u001b[0ma\u001b[0m\u001b[1;33m[\u001b[0m\u001b[1;36m3\u001b[0m\u001b[1;33m]\u001b[0m \u001b[1;33m=\u001b[0m \u001b[1;33m-\u001b[0m\u001b[1;36m10\u001b[0m\u001b[1;33m\u001b[0m\u001b[1;33m\u001b[0m\u001b[0m\n\u001b[0m\u001b[0;32m      9\u001b[0m \u001b[0mprint\u001b[0m\u001b[1;33m(\u001b[0m\u001b[0ma\u001b[0m\u001b[1;33m)\u001b[0m\u001b[1;33m\u001b[0m\u001b[1;33m\u001b[0m\u001b[0m\n",
      "\u001b[1;31mTypeError\u001b[0m: 'tuple' object does not support item assignment"
     ]
    }
   ],
   "source": [
    "# Для сравнения\n",
    "a = [1, 2, 3, 4]\n",
    "print(a)\n",
    "a[3] = -10\n",
    "print(a)\n",
    "a = (1, 2, 3, 4)\n",
    "print(a)\n",
    "a[3] = -10\n",
    "print(a)"
   ]
  },
  {
   "cell_type": "markdown",
   "metadata": {},
   "source": [
    "### Условные логические операции"
   ]
  },
  {
   "cell_type": "markdown",
   "metadata": {},
   "source": [
    "Это выражения, которые опираются на истинность/ложность утверждения"
   ]
  },
  {
   "cell_type": "code",
   "execution_count": 35,
   "metadata": {},
   "outputs": [
    {
     "name": "stdout",
     "output_type": "stream",
     "text": [
      "Второе условие\n"
     ]
    }
   ],
   "source": [
    "a = 15\n",
    "b = 30\n",
    "if a > b:\n",
    "    print('Первое условие')\n",
    "else:\n",
    "    print('Второе условие')"
   ]
  },
  {
   "cell_type": "markdown",
   "metadata": {},
   "source": [
    "Условий может быть больше 2"
   ]
  },
  {
   "cell_type": "code",
   "execution_count": 36,
   "metadata": {},
   "outputs": [
    {
     "name": "stdout",
     "output_type": "stream",
     "text": [
      "Третий случай\n"
     ]
    }
   ],
   "source": [
    "a = 10\n",
    "b = 10\n",
    "if a - b > 0:\n",
    "    print('Первый случай')\n",
    "elif a - b < -5:\n",
    "    print(\"Второй случай\")\n",
    "elif a - b > -3:\n",
    "    print('Третий случай')\n",
    "else:\n",
    "    print('Остальные случаи')"
   ]
  },
  {
   "cell_type": "markdown",
   "metadata": {},
   "source": [
    "Условия могут быть вложенными"
   ]
  },
  {
   "cell_type": "code",
   "execution_count": 37,
   "metadata": {},
   "outputs": [
    {
     "name": "stdout",
     "output_type": "stream",
     "text": [
      "Привет Маша! Привет Саша!\n",
      "Маша получает от Саши цветы\n"
     ]
    }
   ],
   "source": [
    "n = 0\n",
    "a = ['Маша', 1]\n",
    "b = ['Саша', 2]\n",
    "a = a[n]\n",
    "b = b[n]\n",
    "\n",
    "if isinstance(a, str) and isinstance(b, str):\n",
    "    print('Привет {}! Привет {}!'.format(a, b))\n",
    "    if a == 'Саша':\n",
    "        print('{} дарит {}e цветы'.format(a, b[:-1]))\n",
    "    elif a == 'Маша':\n",
    "        print('{} получает от {}и цветы'.format(a, b[:-1]))\n",
    "    \n",
    "elif isinstance(a, int) and isinstance(b, int):\n",
    "    if a > b:\n",
    "        print(a / b)\n",
    "    elif a < b:\n",
    "        print(b / a)\n",
    "    else:\n",
    "        print('a = b')"
   ]
  },
  {
   "cell_type": "markdown",
   "metadata": {},
   "source": [
    "### Циклы"
   ]
  },
  {
   "cell_type": "code",
   "execution_count": 38,
   "metadata": {},
   "outputs": [
    {
     "name": "stdout",
     "output_type": "stream",
     "text": [
      "[0, 7, 14, 21]\n"
     ]
    }
   ],
   "source": [
    "# Задача: сохраним список со всеми значениями от 0 до 21, которые кратны 7\n",
    "a = []\n",
    "for i in range(21+1):\n",
    "    if i % 7 == 0:\n",
    "        a.append(i)\n",
    "print(a)"
   ]
  },
  {
   "cell_type": "code",
   "execution_count": 39,
   "metadata": {},
   "outputs": [
    {
     "name": "stdout",
     "output_type": "stream",
     "text": [
      "0 3\n",
      "1 4\n",
      "2 5\n",
      "3 0\n",
      "3 6\n",
      "4 1\n",
      "4 7\n",
      "5 2\n",
      "5 8\n",
      "6 3\n",
      "6 9\n",
      "7 4\n",
      "7 10\n",
      "8 5\n",
      "9 6\n",
      "10 7\n"
     ]
    }
   ],
   "source": [
    "# Можно так же написать двойные, тройные, ... циклы (но лучше избегать двойных и выше циклов)\n",
    "# Выведем все пары чисел от 0 до 10, разница между которыми равна 3\n",
    "for i in range(11):\n",
    "    for j in range(11):\n",
    "        if abs(i - j) == 3:\n",
    "            print(i, j)"
   ]
  },
  {
   "cell_type": "code",
   "execution_count": 40,
   "metadata": {},
   "outputs": [
    {
     "name": "stdout",
     "output_type": "stream",
     "text": [
      "30 80\n",
      "31 80\n",
      "32 80\n",
      "33 84\n",
      "34 84\n",
      "35 84\n",
      "36 88\n",
      "37 88\n",
      "38 88\n"
     ]
    }
   ],
   "source": [
    "# Вместо цикла for можно использовать цикл while\n",
    "# Задача: Косте повышают зп каждые 3 года на 4к рублей, выводить изменение его возраста и зарпалаты, пока его зп не станет >= 90к\n",
    "age = names_dict['Костя']\n",
    "salary = salary_dict['Костя']\n",
    "k = 0\n",
    "while salary < 90:\n",
    "    print(age, salary)\n",
    "    if (k + 1) % 3 == 0:\n",
    "        salary += 4\n",
    "    age += 1\n",
    "    k += 1"
   ]
  },
  {
   "cell_type": "code",
   "execution_count": 41,
   "metadata": {},
   "outputs": [
    {
     "name": "stdout",
     "output_type": "stream",
     "text": [
      "[0, 7, 14]\n"
     ]
    }
   ],
   "source": [
    "# Вместо циклов можно использовать генераторы списков (по сути это цикл внутри списка)\n",
    "# Задача: сохраним список со всеми значениями от 0 до 21, которые кратны 7\n",
    "a = [i for i in range(21) if i % 7 == 0]\n",
    "print(a)"
   ]
  },
  {
   "cell_type": "code",
   "execution_count": 42,
   "metadata": {},
   "outputs": [
    {
     "name": "stdout",
     "output_type": "stream",
     "text": [
      "0 S\n",
      "1 o\n",
      "2 m\n",
      "3 e\n",
      "4 t\n",
      "5 e\n",
      "6 x\n",
      "7 t\n"
     ]
    }
   ],
   "source": [
    "# Циклы можно делать по чему угодно, по чему можно итерироваться (например по строке) \n",
    "a = 'Some text'\n",
    "# Напишем цикл, который будет выводить все буквы сообщения и какая это по счёту буква ('' - будем считать не буквой)\n",
    "for n, letter in enumerate(a.replace(' ', '')):\n",
    "    print(n, letter)"
   ]
  },
  {
   "cell_type": "code",
   "execution_count": 43,
   "metadata": {},
   "outputs": [
    {
     "name": "stdout",
     "output_type": "stream",
     "text": [
      "0 S\n",
      "1 o\n",
      "2 m\n",
      "3 e\n",
      "4 t\n",
      "5 e\n",
      "6 x\n",
      "7 t\n"
     ]
    }
   ],
   "source": [
    "# То же самое, без enumerate\n",
    "k = 0\n",
    "for letter in a.replace(' ', ''):\n",
    "    print(k, letter)\n",
    "    k += 1"
   ]
  },
  {
   "cell_type": "markdown",
   "metadata": {},
   "source": [
    "### Функции"
   ]
  },
  {
   "cell_type": "markdown",
   "metadata": {},
   "source": [
    "Функции объявляются так:\n",
    "~~~    \n",
    "def some_function(arg1, arg2, ...):\n",
    "    do something here\n",
    "    return some output\n",
    "~~~"
   ]
  },
  {
   "cell_type": "code",
   "execution_count": 44,
   "metadata": {},
   "outputs": [],
   "source": [
    "# Например, напишем функцию \"Тупой калькулятор\" - она будет уметь только суммировать и умножать числа\n",
    "def dumb_calc(a, b, operation):\n",
    "    if operation == '+':\n",
    "        return a + b\n",
    "    elif operation == '*':\n",
    "        return a * b\n",
    "    else:\n",
    "        return \"Ваша операция непонятна для калькулятора\""
   ]
  },
  {
   "cell_type": "code",
   "execution_count": 45,
   "metadata": {},
   "outputs": [
    {
     "name": "stdout",
     "output_type": "stream",
     "text": [
      "8\n",
      "-2\n",
      "Ваша операция непонятна для калькулятора\n"
     ]
    }
   ],
   "source": [
    "print(dumb_calc(3, 5, operation='+'))\n",
    "print(dumb_calc(-1, 2, operation='*'))\n",
    "print(dumb_calc(11, 22, operation='-'))"
   ]
  },
  {
   "cell_type": "code",
   "execution_count": 46,
   "metadata": {},
   "outputs": [],
   "source": [
    "# Напишем более сложную функцию: пусть на вход подаётся список произвольных объектов, а мы должны вывести только чётные числа \n",
    "# в возрастающем порядке\n",
    "input_example = ['some text', 'some other text', 1, 2, 3, {'1': 2, '3': []}, [1, 1, 3], 4]\n",
    "def complex_function(x):\n",
    "    # оставим только числа\n",
    "    x = [x for x in x if isinstance(x, int) or isinstance(x, float)]\n",
    "    x.sort()\n",
    "    return [i for i in x if i % 2 == 0]"
   ]
  },
  {
   "cell_type": "code",
   "execution_count": 47,
   "metadata": {},
   "outputs": [
    {
     "data": {
      "text/plain": [
       "[2, 4]"
      ]
     },
     "execution_count": 47,
     "metadata": {},
     "output_type": "execute_result"
    }
   ],
   "source": [
    "complex_function(input_example)"
   ]
  },
  {
   "cell_type": "markdown",
   "metadata": {},
   "source": [
    "---\n",
    "### Задачи\n",
    "---"
   ]
  },
  {
   "cell_type": "markdown",
   "metadata": {},
   "source": [
    "1) Написать функцию subreverse_sequence(sequence), которая принимает на вход список чисел (int), а возвращает этот список в таком виде:\n",
    "сначала идут чётные числа в убывающем порядке, а затем нечётные числа в возрастающем порядке.\n",
    "\n",
    "\n",
    "Пример: \n",
    "\n",
    "sequence = [0, 1, 2, 3, 4, 5, 6]\n",
    "\n",
    "subreverse_sequence(sequence) = [6, 4, 2, 0, 1, 3, 5]"
   ]
  },
  {
   "cell_type": "markdown",
   "metadata": {},
   "source": [
    "2) Написать функцию find_max_substring_occurence(input_string), которая принимает на вход непустую строку input_string, а возвращает наибольшее число k, такое что input_string = some_other_string * k (то есть, input_string является some_other_string, повторенной k раз). Если такой строки нет - выведите \"такой строки нет\".\n",
    "\n",
    "Пример:\n",
    " \n",
    "find_max_substring_occurence('abab') = 2"
   ]
  },
  {
   "cell_type": "markdown",
   "metadata": {},
   "source": [
    "3) По кругу записаны несколько букв, возможно повторяющихся. Мы хотим узнать, можно ли прочитать определённое слово, двигаясь по кругу в любую сторону, не пропуская букв. Напишите функцию find_word_in_circle(circle, word), которая по круговой записи (circle) и по слову, которое мы там хотим прочитать (word) выдаст 'yes', если такое слово там можно прочитать и 'no' иначе.\n",
    "\n",
    "Пример:\n",
    "\n",
    "find_word_in_circle('napo', 'ap') = 'yes'\n",
    "\n",
    "4) Есть словарь: input_dict, значениями которого являются списки c уникальными значениями (внутри одного списка). Написать функцию find_reverse_dict, которая возвращает \"обратный словарь\".\n",
    "\n",
    "Пример:\n",
    "\n",
    "input_dict = {'a': [1, 2, 3], 'b': [1, 5, 6], 'c': [2, 5, 3], 'd': [6, 2]}\n",
    "\n",
    "find_reverse_dict(input_dict) = {1: ['a', 'b'], 2: ['a', 'c', 'd'], 3: ['a', 'c'], 5: ['b', 'c'], 6: ['b', 'd']}"
   ]
  },
  {
   "cell_type": "code",
   "execution_count": 48,
   "metadata": {},
   "outputs": [],
   "source": [
    "# Copyright 2010 Google Inc.\n",
    "# Licensed under the Apache License, Version 2.0\n",
    "# http://www.apache.org/licenses/LICENSE-2.0\n",
    "\n",
    "# Google's Python Class\n",
    "# http://code.google.com/edu/languages/google-python-class/"
   ]
  },
  {
   "cell_type": "code",
   "execution_count": 49,
   "metadata": {},
   "outputs": [],
   "source": [
    "# A. match_ends\n",
    "# Given a list of strings, return the count of the number of\n",
    "# strings where the string length is 2 or more and the first\n",
    "# and last chars of the string are the same.\n",
    "# Note: python does not have a ++ operator, but += works.\n",
    "def match_ends(words):\n",
    "  # +++your code here+++\n",
    "  return"
   ]
  },
  {
   "cell_type": "code",
   "execution_count": 50,
   "metadata": {},
   "outputs": [],
   "source": [
    "# B. front_x\n",
    "# Given a list of strings, return a list with the strings\n",
    "# in sorted order, except group all the strings that begin with 'x' first.\n",
    "# e.g. ['mix', 'xyz', 'apple', 'xanadu', 'aardvark'] yields\n",
    "# ['xanadu', 'xyz', 'aardvark', 'apple', 'mix']\n",
    "# Hint: this can be done by making 2 lists and sorting each of them\n",
    "# before combining them.\n",
    "def front_x(words):\n",
    "  # +++your code here+++\n",
    "  return"
   ]
  },
  {
   "cell_type": "code",
   "execution_count": 51,
   "metadata": {},
   "outputs": [],
   "source": [
    "# C. sort_last\n",
    "# Given a list of non-empty tuples, return a list sorted in increasing\n",
    "# order by the last element in each tuple.\n",
    "# e.g. [(1, 7), (1, 3), (3, 4, 5), (2, 2)] yields\n",
    "# [(2, 2), (1, 3), (3, 4, 5), (1, 7)]\n",
    "# Hint: use a custom key= function to extract the last element form each tuple.\n",
    "def sort_last(tuples):\n",
    "  # +++your code here+++\n",
    "  return"
   ]
  },
  {
   "cell_type": "code",
   "execution_count": 52,
   "metadata": {},
   "outputs": [],
   "source": [
    "# D. Given a list of numbers, return a list where\n",
    "# all adjacent == elements have been reduced to a single element,\n",
    "# so [1, 2, 2, 3] returns [1, 2, 3]. You may create a new list or\n",
    "# modify the passed in list.\n",
    "def remove_adjacent(nums):\n",
    "  # +++your code here+++\n",
    "  return"
   ]
  },
  {
   "cell_type": "code",
   "execution_count": 53,
   "metadata": {},
   "outputs": [],
   "source": [
    "# E. Given two lists sorted in increasing order, create and return a merged\n",
    "# list of all the elements in sorted order. You may modify the passed in lists.\n",
    "# Ideally, the solution should work in \"linear\" time, making a single\n",
    "# pass of both lists.\n",
    "def linear_merge(list1, list2):\n",
    "  # +++your code here+++\n",
    "  return"
   ]
  },
  {
   "cell_type": "markdown",
   "metadata": {},
   "source": [
    "## Numpy"
   ]
  },
  {
   "cell_type": "markdown",
   "metadata": {},
   "source": [
    "https://habr.com/ru/post/469355/"
   ]
  },
  {
   "cell_type": "markdown",
   "metadata": {},
   "source": [
    "Numpy - библиотека для матричных вычислений, с помощью неё в частности можно операции, которые предполагают циклы, делать без циклов (и это хорошо!)"
   ]
  },
  {
   "cell_type": "code",
   "execution_count": 54,
   "metadata": {},
   "outputs": [],
   "source": [
    "# загружаем библиотеку под именем np\n",
    "import numpy as np "
   ]
  },
  {
   "cell_type": "markdown",
   "metadata": {},
   "source": [
    "Основной тип данных np.array - по сути матрица"
   ]
  },
  {
   "cell_type": "code",
   "execution_count": 55,
   "metadata": {},
   "outputs": [
    {
     "name": "stdout",
     "output_type": "stream",
     "text": [
      "a: [1 2 3 4 5 6]\n",
      "\n",
      "b: [ 1 -1  1 -1  2 -2]\n",
      "\n",
      "C: [[ 1 -1  1  2]\n",
      " [ 9 -9  9  1]\n",
      " [ 3  0  0  0]]\n",
      "\n",
      "D: [[ 0 -1 -1]\n",
      " [-1 -1  1]\n",
      " [ 0 -1  1]\n",
      " [-1  0  0]]\n",
      "\n",
      "E: [[7 9 1 8]\n",
      " [6 4 2 5]\n",
      " [9 7 7 5]]\n"
     ]
    }
   ],
   "source": [
    "a = np.array([1, 2, 3, 4, 5, 6])\n",
    "b = np.array([1, -1, 1, -1, 2, -2])\n",
    "C = np.array([[1, -1, 1, 2], [9, -9, 9, 1], [3, 0, 0, 0]])\n",
    "D = np.random.randint(-1, 2, size=(4, 3)) # Случайная матрица 4х2 состоящая из {-1, 0, 1}\n",
    "E = np.random.randint(0, 10, size=(3, 4)) # Случайная матрица 3х4\n",
    "print('a:', a)\n",
    "print()\n",
    "print('b:', b)\n",
    "print()\n",
    "print('C:', C)\n",
    "print()\n",
    "print('D:', D)\n",
    "print()\n",
    "print('E:', E)"
   ]
  },
  {
   "cell_type": "code",
   "execution_count": 56,
   "metadata": {},
   "outputs": [
    {
     "data": {
      "text/plain": [
       "((6,), (6,), (3, 4), (4, 3))"
      ]
     },
     "execution_count": 56,
     "metadata": {},
     "output_type": "execute_result"
    }
   ],
   "source": [
    "# .shape - возвращает размеры объектов\n",
    "a.shape, b.shape, C.shape, D.shape"
   ]
  },
  {
   "cell_type": "markdown",
   "metadata": {},
   "source": [
    "С np.array возможны поэлементные арифметические операции и результатом тоже будет np.array"
   ]
  },
  {
   "cell_type": "code",
   "execution_count": 57,
   "metadata": {},
   "outputs": [
    {
     "name": "stdout",
     "output_type": "stream",
     "text": [
      "a + b: [2 1 4 3 7 4]\n",
      "a - b: [0 3 2 5 3 8]\n",
      "a * b: [  1  -2   3  -4  10 -12]\n",
      "a / b: [ 1.  -2.   3.  -4.   2.5 -3. ]\n",
      "a % b: [0 0 0 0 1 0]\n",
      "a == b: [ True False False False False False]\n",
      "\n",
      "C + E: [[ 8  8  2 10]\n",
      " [15 -5 11  6]\n",
      " [12  7  7  5]]\n",
      "\n",
      "C - E: [[ -6 -10   0  -6]\n",
      " [  3 -13   7  -4]\n",
      " [ -6  -7  -7  -5]]\n",
      "\n",
      "C * E: [[  7  -9   1  16]\n",
      " [ 54 -36  18   5]\n",
      " [ 27   0   0   0]]\n",
      "\n",
      "E * C: [[  7  -9   1  16]\n",
      " [ 54 -36  18   5]\n",
      " [ 27   0   0   0]]\n",
      "\n",
      "D.dot(E): [[-15 -11  -9 -10]\n",
      " [ -4  -6   4  -8]\n",
      " [  3   3   5   0]\n",
      " [ -7  -9  -1  -8]]\n",
      "\n",
      "E.dot(D): [[-17 -17   3]\n",
      " [ -9 -12   0]\n",
      " [-12 -23   5]]\n"
     ]
    }
   ],
   "source": [
    "print('a + b:', a + b)\n",
    "print('a - b:', a - b)\n",
    "print('a * b:', a * b)\n",
    "print('a / b:', a / b)\n",
    "print('a % b:', a % b)\n",
    "print('a == b:', a == b)\n",
    "print()\n",
    "print('C + E:', C + E)\n",
    "print()\n",
    "print('C - E:', C - E)\n",
    "print()\n",
    "print('C * E:', C * E) # поэлементное умножение (коммутативно)\n",
    "print()\n",
    "print('E * C:', E * C)\n",
    "print()\n",
    "print('D.dot(E):', D.dot(E)) # матричное умножение (некоммутативно!)\n",
    "print()\n",
    "print('E.dot(D):', E.dot(D))"
   ]
  },
  {
   "cell_type": "markdown",
   "metadata": {},
   "source": [
    "Как векторизовать вычисления с помощью numpy. Пример: вычислим квадрат длины вектора a."
   ]
  },
  {
   "cell_type": "code",
   "execution_count": 58,
   "metadata": {},
   "outputs": [
    {
     "name": "stdout",
     "output_type": "stream",
     "text": [
      "time: 0.6232813999999962\n",
      "square_length: 999432.2623030909\n",
      "time: 0.010418199999996602\n",
      "square_length: 999432.2623030993\n"
     ]
    }
   ],
   "source": [
    "import time\n",
    "a = np.random.randn((int(1e6,)))\n",
    "# 1 способ\n",
    "st = time.perf_counter()\n",
    "square_length = 0\n",
    "for coord in a:\n",
    "    square_length += coord**2\n",
    "print('time:', time.perf_counter () - st)\n",
    "print('square_length:', square_length)\n",
    "\n",
    "# 2 способ\n",
    "st = time.perf_counter ()\n",
    "square_length = a.dot(a)\n",
    "print('time:', time.perf_counter () - st)\n",
    "print('square_length:', square_length)"
   ]
  },
  {
   "cell_type": "markdown",
   "metadata": {},
   "source": [
    "Мораль - старайтесь избегать циклов и производить вычисления векторно"
   ]
  },
  {
   "cell_type": "markdown",
   "metadata": {},
   "source": [
    "Срезы"
   ]
  },
  {
   "cell_type": "code",
   "execution_count": 59,
   "metadata": {},
   "outputs": [
    {
     "name": "stdout",
     "output_type": "stream",
     "text": [
      "b: [ 1 -1  1 -1  2 -2]\n",
      "\n",
      "b[[4, 2, 1]]: [ 2  1 -1]\n",
      "\n",
      "C: [[ 1 -1  1  2]\n",
      " [ 9 -9  9  1]\n",
      " [ 3  0  0  0]]\n",
      "\n",
      "C[1, 2]: 9\n",
      "\n",
      "C[::-1]: [[ 3  0  0  0]\n",
      " [ 9 -9  9  1]\n",
      " [ 1 -1  1  2]]\n",
      "\n",
      "C[:, ::-1]: [[ 2  1 -1  1]\n",
      " [ 1  9 -9  9]\n",
      " [ 0  0  0  3]]\n",
      "\n",
      "C[::-1, ::-1]: [[ 0  0  0  3]\n",
      " [ 1  9 -9  9]\n",
      " [ 2  1 -1  1]]\n",
      "\n",
      "C[:2, 1:3]: [[-1  1]\n",
      " [-9  9]]\n",
      "\n",
      "C > 1: [[False False False  True]\n",
      " [ True False  True False]\n",
      " [ True False False False]]\n",
      "\n",
      "C[C > 1]: [2 9 9 3]\n"
     ]
    }
   ],
   "source": [
    "print('b:', b)\n",
    "print()\n",
    "print('b[[4, 2, 1]]:', b[[4, 2, 1]])\n",
    "print()\n",
    "print('C:', C)\n",
    "print()\n",
    "print('C[1, 2]:', C[1, 2]) # 2ая строка, 3ий столбец\n",
    "print()\n",
    "print('C[::-1]:', C[::-1]) # поменять строки в обратном порядке\n",
    "print()\n",
    "print('C[:, ::-1]:', C[:, ::-1]) # поменять столбцы в обратном порядке\n",
    "print()\n",
    "print('C[::-1, ::-1]:', C[::-1, ::-1]) # поменять и строки и столбцы\n",
    "print()\n",
    "print('C[:2, 1:3]:', C[:2, 1:3]) # взять 1ую и 2ую строки и 2ой, 3ий столбцы\n",
    "print()\n",
    "print('C > 1:', C > 1)\n",
    "print()\n",
    "print('C[C > 1]:', C[C > 1])"
   ]
  },
  {
   "cell_type": "markdown",
   "metadata": {},
   "source": [
    "Изменение размеров (решейпы)"
   ]
  },
  {
   "cell_type": "code",
   "execution_count": 60,
   "metadata": {},
   "outputs": [
    {
     "name": "stdout",
     "output_type": "stream",
     "text": [
      "[[[ 2 -3 -1  0]\n",
      "  [ 0 -1 -1  0]\n",
      "  [-3  0 -1  1]]\n",
      "\n",
      " [[ 0 -2 -2  0]\n",
      "  [-3 -2  2  0]\n",
      "  [-3  0  2  2]]] (2, 3, 4)\n",
      "===============\n",
      "[[ 2 -3 -1  0]\n",
      " [ 0 -1 -1  0]\n",
      " [-3  0 -1  1]] (3, 4)\n",
      "\n",
      "[[ 0 -2 -2  0]\n",
      " [-3 -2  2  0]\n",
      " [-3  0  2  2]] (3, 4)\n",
      "\n",
      "[[ 2 -3 -1  0]\n",
      " [ 0 -2 -2  0]] (2, 4)\n",
      "\n",
      "[[-3  0 -1  1]\n",
      " [-3  0  2  2]] (2, 4)\n",
      "\n",
      "[[ 2  0 -3]\n",
      " [ 0 -3 -3]] (2, 3)\n",
      "\n",
      "[[0 0 1]\n",
      " [0 0 2]] (2, 3)\n"
     ]
    }
   ],
   "source": [
    "A = np.random.randint(-3, 3, size=(2, 3, 4))\n",
    "print(A, A.shape)\n",
    "print('===============')\n",
    "print(A[0],A[0].shape)\n",
    "print()\n",
    "print(A[1], A[1].shape)\n",
    "print()\n",
    "print(A[:, 0], A[:, 0].shape)\n",
    "print()\n",
    "print(A[:, 2], A[:, 2].shape)\n",
    "print()\n",
    "print(A[:, :, 0], A[:, :, 0].shape)\n",
    "print()\n",
    "print(A[:, :, -1], A[:, :, -1].shape)"
   ]
  },
  {
   "cell_type": "code",
   "execution_count": 61,
   "metadata": {},
   "outputs": [
    {
     "name": "stdout",
     "output_type": "stream",
     "text": [
      "[ 2 -3 -1  0  0 -1 -1  0 -3  0 -1  1  0 -2 -2  0 -3 -2  2  0 -3  0  2  2]\n",
      "\n",
      "[[ 2 -3]\n",
      " [-1  0]\n",
      " [ 0 -1]\n",
      " [-1  0]\n",
      " [-3  0]\n",
      " [-1  1]\n",
      " [ 0 -2]\n",
      " [-2  0]\n",
      " [-3 -2]\n",
      " [ 2  0]\n",
      " [-3  0]\n",
      " [ 2  2]]\n",
      "\n",
      "[[ 2 -3 -1  0  0 -1 -1  0]\n",
      " [-3  0 -1  1  0 -2 -2  0]\n",
      " [-3 -2  2  0 -3  0  2  2]]\n"
     ]
    }
   ],
   "source": [
    "# Выпримляет np.array в вектор\n",
    "print(A.ravel())\n",
    "print()\n",
    "# ? какой размер будет у A.revel() ?\n",
    "# произведение параметров .reshape() должно совпадать с произведением изначальных параметров 2*3*4 = 24\n",
    "print(A.reshape(12, 2))\n",
    "print()\n",
    "print(A.reshape(3, 8))"
   ]
  },
  {
   "cell_type": "markdown",
   "metadata": {},
   "source": [
    "Сортировки"
   ]
  },
  {
   "cell_type": "code",
   "execution_count": 62,
   "metadata": {},
   "outputs": [
    {
     "name": "stdout",
     "output_type": "stream",
     "text": [
      "[ 1 -1  1 -1  2 -2]\n",
      "\n",
      "[-2 -1 -1  1  1  2]\n",
      "\n",
      "[5 1 3 0 2 4]\n"
     ]
    }
   ],
   "source": [
    "print(b)\n",
    "print()\n",
    "print(np.sort(b))\n",
    "print()\n",
    "# ? как сортировать b по убыванию ?\n",
    "# функция np.argsort() возвращает позиции элементов изначального списка в отсортированном\n",
    "print(np.argsort(b))\n",
    "# Можно ещё так b.argsort()\n",
    "\n",
    "# np.sort(b) = b[np.argsort(b)]\n",
    "# Задача:\n",
    "# A = np.arange(9).reshape(3, 3)\n",
    "# c = np.array([-1, -2, 3, 2, 10, 9])\n",
    "# Что выдаст A[:, c.argsort()[:2]] ?"
   ]
  },
  {
   "cell_type": "markdown",
   "metadata": {},
   "source": [
    "Конкатенации"
   ]
  },
  {
   "cell_type": "code",
   "execution_count": 63,
   "metadata": {},
   "outputs": [
    {
     "name": "stdout",
     "output_type": "stream",
     "text": [
      "[[-2  3 -4  0]\n",
      " [-2 -3 -1  2]\n",
      " [-1  0  4  4]\n",
      " [ 1 -5 -2  4]\n",
      " [-5  2  4  4]]\n",
      "\n",
      "[[100 100 100 100]\n",
      " [100 100 100 100]\n",
      " [100 100 101 100]\n",
      " [100 101 100 100]\n",
      " [101 101 100 100]]\n",
      "\n",
      "[[ -2   3  -4   0 100 100 100 100]\n",
      " [ -2  -3  -1   2 100 100 100 100]\n",
      " [ -1   0   4   4 100 100 101 100]\n",
      " [  1  -5  -2   4 100 101 100 100]\n",
      " [ -5   2   4   4 101 101 100 100]]\n",
      "\n",
      "[[ -2   3  -4   0]\n",
      " [ -2  -3  -1   2]\n",
      " [ -1   0   4   4]\n",
      " [  1  -5  -2   4]\n",
      " [ -5   2   4   4]\n",
      " [100 100 100 100]\n",
      " [100 100 100 100]\n",
      " [100 100 101 100]\n",
      " [100 101 100 100]\n",
      " [101 101 100 100]]\n"
     ]
    }
   ],
   "source": [
    "A = np.random.randint(-5, 5, size=(5, 4))\n",
    "B = np.random.randint(100, 102, size=(5, 4))\n",
    "print(A)\n",
    "print()\n",
    "print(B)\n",
    "print()\n",
    "print(np.hstack((A, B)))\n",
    "print()\n",
    "print(np.vstack((A, B)))"
   ]
  },
  {
   "cell_type": "markdown",
   "metadata": {},
   "source": [
    "---\n",
    "### Задачи\n",
    "---"
   ]
  },
  {
   "cell_type": "markdown",
   "metadata": {},
   "source": [
    "https://github.com/rougier/numpy-100/blob/master/100_Numpy_exercises.md"
   ]
  },
  {
   "cell_type": "markdown",
   "metadata": {},
   "source": [
    "## Pandas, matplotlib, seaborn"
   ]
  },
  {
   "cell_type": "code",
   "execution_count": 17,
   "metadata": {},
   "outputs": [],
   "source": [
    "import os\n",
    "import pandas as pd\n",
    "from tqdm import tqdm_notebook # визуализация итераций\n",
    "import matplotlib\n",
    "# позволяет рисовать графики в ноутбуке\n",
    "%matplotlib inline \n",
    "import matplotlib.pyplot as plt\n",
    "import seaborn as sns"
   ]
  },
  {
   "cell_type": "code",
   "execution_count": 18,
   "metadata": {},
   "outputs": [],
   "source": [
    "matplotlib.rcParams['figure.figsize'] = (8, 8) # делает графики определённого разера\n",
    "sns.set_style('whitegrid') # делает сетку на графиках"
   ]
  },
  {
   "cell_type": "markdown",
   "metadata": {},
   "source": [
    "Будем изучать pandas на примере набора данных про перелёты (https://www.kaggle.com/flashgordon/usa-airport-dataset/downloads/usa-airport-dataset.zip/2)"
   ]
  },
  {
   "cell_type": "code",
   "execution_count": 53,
   "metadata": {},
   "outputs": [],
   "source": [
    "FILE_PATH = '/Users/anton.andreytsev/Empirical-Statistics-EF-MSU-2019/'"
   ]
  },
  {
   "cell_type": "code",
   "execution_count": 54,
   "metadata": {},
   "outputs": [],
   "source": [
    "# Загрузим файлы\n",
    "dat = pd.read_csv(os.path.join(FILE_PATH, 'data/Airports.csv'))\n",
    "dat.columns = [col.lower() for col in dat.columns] # преведём названия переменных к нижнему регистру"
   ]
  },
  {
   "cell_type": "code",
   "execution_count": 23,
   "metadata": {},
   "outputs": [
    {
     "data": {
      "text/html": [
       "<div>\n",
       "<style scoped>\n",
       "    .dataframe tbody tr th:only-of-type {\n",
       "        vertical-align: middle;\n",
       "    }\n",
       "\n",
       "    .dataframe tbody tr th {\n",
       "        vertical-align: top;\n",
       "    }\n",
       "\n",
       "    .dataframe thead th {\n",
       "        text-align: right;\n",
       "    }\n",
       "</style>\n",
       "<table border=\"1\" class=\"dataframe\">\n",
       "  <thead>\n",
       "    <tr style=\"text-align: right;\">\n",
       "      <th></th>\n",
       "      <th>origin_airport</th>\n",
       "      <th>destination_airport</th>\n",
       "      <th>origin_city</th>\n",
       "      <th>destination_city</th>\n",
       "      <th>passengers</th>\n",
       "      <th>seats</th>\n",
       "      <th>flights</th>\n",
       "      <th>distance</th>\n",
       "      <th>fly_date</th>\n",
       "      <th>origin_population</th>\n",
       "      <th>destination_population</th>\n",
       "      <th>org_airport_lat</th>\n",
       "      <th>org_airport_long</th>\n",
       "      <th>dest_airport_lat</th>\n",
       "      <th>dest_airport_long</th>\n",
       "    </tr>\n",
       "  </thead>\n",
       "  <tbody>\n",
       "    <tr>\n",
       "      <th>0</th>\n",
       "      <td>PHX</td>\n",
       "      <td>IAH</td>\n",
       "      <td>Phoenix, AZ</td>\n",
       "      <td>Houston, TX</td>\n",
       "      <td>1424</td>\n",
       "      <td>1984</td>\n",
       "      <td>16</td>\n",
       "      <td>1009</td>\n",
       "      <td>2003-12-01</td>\n",
       "      <td>3600163</td>\n",
       "      <td>5084017</td>\n",
       "      <td>33.434299</td>\n",
       "      <td>-112.012001</td>\n",
       "      <td>29.984400</td>\n",
       "      <td>-95.341400</td>\n",
       "    </tr>\n",
       "    <tr>\n",
       "      <th>1</th>\n",
       "      <td>OAK</td>\n",
       "      <td>DFW</td>\n",
       "      <td>Oakland, CA</td>\n",
       "      <td>Dallas, TX</td>\n",
       "      <td>2964</td>\n",
       "      <td>3210</td>\n",
       "      <td>30</td>\n",
       "      <td>1456</td>\n",
       "      <td>1999-07-01</td>\n",
       "      <td>4034370</td>\n",
       "      <td>9703564</td>\n",
       "      <td>37.721298</td>\n",
       "      <td>-122.221001</td>\n",
       "      <td>32.896801</td>\n",
       "      <td>-97.038002</td>\n",
       "    </tr>\n",
       "    <tr>\n",
       "      <th>2</th>\n",
       "      <td>SMF</td>\n",
       "      <td>LAS</td>\n",
       "      <td>Sacramento, CA</td>\n",
       "      <td>Las Vegas, NV</td>\n",
       "      <td>113</td>\n",
       "      <td>113</td>\n",
       "      <td>1</td>\n",
       "      <td>397</td>\n",
       "      <td>2004-02-01</td>\n",
       "      <td>2004144</td>\n",
       "      <td>1646875</td>\n",
       "      <td>38.695400</td>\n",
       "      <td>-121.591003</td>\n",
       "      <td>36.080101</td>\n",
       "      <td>-115.152000</td>\n",
       "    </tr>\n",
       "    <tr>\n",
       "      <th>3</th>\n",
       "      <td>SLC</td>\n",
       "      <td>CVG</td>\n",
       "      <td>Salt Lake City, UT</td>\n",
       "      <td>Cincinnati, OH</td>\n",
       "      <td>5287</td>\n",
       "      <td>7874</td>\n",
       "      <td>31</td>\n",
       "      <td>1449</td>\n",
       "      <td>1991-03-01</td>\n",
       "      <td>790507</td>\n",
       "      <td>1870265</td>\n",
       "      <td>40.788399</td>\n",
       "      <td>-111.977997</td>\n",
       "      <td>39.048801</td>\n",
       "      <td>-84.667801</td>\n",
       "    </tr>\n",
       "    <tr>\n",
       "      <th>4</th>\n",
       "      <td>PHL</td>\n",
       "      <td>DTW</td>\n",
       "      <td>Philadelphia, PA</td>\n",
       "      <td>Detroit, MI</td>\n",
       "      <td>1445</td>\n",
       "      <td>2928</td>\n",
       "      <td>24</td>\n",
       "      <td>453</td>\n",
       "      <td>1990-03-01</td>\n",
       "      <td>10881988</td>\n",
       "      <td>8503650</td>\n",
       "      <td>39.871899</td>\n",
       "      <td>-75.241096</td>\n",
       "      <td>42.212399</td>\n",
       "      <td>-83.353401</td>\n",
       "    </tr>\n",
       "  </tbody>\n",
       "</table>\n",
       "</div>"
      ],
      "text/plain": [
       "  origin_airport destination_airport         origin_city destination_city  \\\n",
       "0            PHX                 IAH         Phoenix, AZ      Houston, TX   \n",
       "1            OAK                 DFW         Oakland, CA       Dallas, TX   \n",
       "2            SMF                 LAS      Sacramento, CA    Las Vegas, NV   \n",
       "3            SLC                 CVG  Salt Lake City, UT   Cincinnati, OH   \n",
       "4            PHL                 DTW    Philadelphia, PA      Detroit, MI   \n",
       "\n",
       "   passengers  seats  flights  distance    fly_date  origin_population  \\\n",
       "0        1424   1984       16      1009  2003-12-01            3600163   \n",
       "1        2964   3210       30      1456  1999-07-01            4034370   \n",
       "2         113    113        1       397  2004-02-01            2004144   \n",
       "3        5287   7874       31      1449  1991-03-01             790507   \n",
       "4        1445   2928       24       453  1990-03-01           10881988   \n",
       "\n",
       "   destination_population  org_airport_lat  org_airport_long  \\\n",
       "0                 5084017        33.434299       -112.012001   \n",
       "1                 9703564        37.721298       -122.221001   \n",
       "2                 1646875        38.695400       -121.591003   \n",
       "3                 1870265        40.788399       -111.977997   \n",
       "4                 8503650        39.871899        -75.241096   \n",
       "\n",
       "   dest_airport_lat  dest_airport_long  \n",
       "0         29.984400         -95.341400  \n",
       "1         32.896801         -97.038002  \n",
       "2         36.080101        -115.152000  \n",
       "3         39.048801         -84.667801  \n",
       "4         42.212399         -83.353401  "
      ]
     },
     "execution_count": 23,
     "metadata": {},
     "output_type": "execute_result"
    }
   ],
   "source": [
    "# Посмотрим на пример имеющихся данных\n",
    "dat.head()"
   ]
  },
  {
   "cell_type": "code",
   "execution_count": 24,
   "metadata": {},
   "outputs": [
    {
     "data": {
      "text/plain": [
       "(100000, 15)"
      ]
     },
     "execution_count": 24,
     "metadata": {},
     "output_type": "execute_result"
    }
   ],
   "source": [
    "# Посмотрим на размер данных (строки, столбцы)\n",
    "dat.shape"
   ]
  },
  {
   "cell_type": "code",
   "execution_count": 25,
   "metadata": {},
   "outputs": [
    {
     "data": {
      "text/plain": [
       "origin_airport             object\n",
       "destination_airport        object\n",
       "origin_city                object\n",
       "destination_city           object\n",
       "passengers                  int64\n",
       "seats                       int64\n",
       "flights                     int64\n",
       "distance                    int64\n",
       "fly_date                   object\n",
       "origin_population           int64\n",
       "destination_population      int64\n",
       "org_airport_lat           float64\n",
       "org_airport_long          float64\n",
       "dest_airport_lat          float64\n",
       "dest_airport_long         float64\n",
       "dtype: object"
      ]
     },
     "execution_count": 25,
     "metadata": {},
     "output_type": "execute_result"
    }
   ],
   "source": [
    "# Посмотрим на описание типов переменных\n",
    "dat.dtypes"
   ]
  },
  {
   "cell_type": "code",
   "execution_count": 26,
   "metadata": {},
   "outputs": [
    {
     "data": {
      "text/plain": [
       "origin_airport            0\n",
       "destination_airport       0\n",
       "origin_city               0\n",
       "destination_city          0\n",
       "passengers                0\n",
       "seats                     0\n",
       "flights                   0\n",
       "distance                  0\n",
       "fly_date                  0\n",
       "origin_population         0\n",
       "destination_population    0\n",
       "org_airport_lat           0\n",
       "org_airport_long          0\n",
       "dest_airport_lat          0\n",
       "dest_airport_long         0\n",
       "dtype: int64"
      ]
     },
     "execution_count": 26,
     "metadata": {},
     "output_type": "execute_result"
    }
   ],
   "source": [
    "# Посмотрим на число пропущенных значений по каждой переменной\n",
    "dat.isnull().sum()"
   ]
  },
  {
   "cell_type": "markdown",
   "metadata": {},
   "source": [
    "Посчитаем Евклидово расстояние между аэропортами - совпадает ли оно с distance переменной?"
   ]
  },
  {
   "cell_type": "code",
   "execution_count": 28,
   "metadata": {},
   "outputs": [
    {
     "data": {
      "text/plain": [
       "Index(['origin_airport', 'destination_airport', 'origin_city',\n",
       "       'destination_city', 'passengers', 'seats', 'flights', 'distance',\n",
       "       'fly_date', 'origin_population', 'destination_population',\n",
       "       'org_airport_lat', 'org_airport_long', 'dest_airport_lat',\n",
       "       'dest_airport_long'],\n",
       "      dtype='object')"
      ]
     },
     "execution_count": 28,
     "metadata": {},
     "output_type": "execute_result"
    }
   ],
   "source": [
    "dat.columns"
   ]
  },
  {
   "cell_type": "code",
   "execution_count": 29,
   "metadata": {},
   "outputs": [],
   "source": [
    "dat['euclid_distance'] = np.sqrt((dat['org_airport_lat'] - dat['dest_airport_lat'])**2 + \n",
    "                                 (dat['org_airport_long'] - dat['dest_airport_long'])**2)"
   ]
  },
  {
   "cell_type": "code",
   "execution_count": 30,
   "metadata": {},
   "outputs": [
    {
     "data": {
      "image/png": "[encoded data removed]",
      "text/plain": [
       "<Figure size 576x576 with 1 Axes>"
      ]
     },
     "metadata": {},
     "output_type": "display_data"
    }
   ],
   "source": [
    "plt.scatter(dat.euclid_distance, dat.distance);\n",
    "plt.xlabel('Евклидово расстояние', fontsize=15)\n",
    "plt.ylabel('dist', fontsize=15);"
   ]
  },
  {
   "cell_type": "markdown",
   "metadata": {},
   "source": [
    "Есть линейная связь между dist и евклидовым расстоянием, однако есть аэропорты, которые отклоняются от этой связи - возможно расстояние до них измерялось как-то иначе"
   ]
  },
  {
   "cell_type": "markdown",
   "metadata": {},
   "source": [
    "Посмотрим на корреляционную матрицу"
   ]
  },
  {
   "cell_type": "code",
   "execution_count": 31,
   "metadata": {},
   "outputs": [
    {
     "data": {
      "image/png": "[encoded data removed]",
      "text/plain": [
       "<Figure size 720x720 with 2 Axes>"
      ]
     },
     "metadata": {},
     "output_type": "display_data"
    }
   ],
   "source": [
    "plt.figure(figsize=(10, 10))\n",
    "sns.heatmap(dat.corr(), annot=True)\n",
    "plt.xticks(fontsize=15);\n",
    "plt.yticks(fontsize=15);"
   ]
  },
  {
   "cell_type": "markdown",
   "metadata": {},
   "source": [
    "Есть сильная взаимосвязь между числом пассажиров и числом мест на борту"
   ]
  },
  {
   "cell_type": "code",
   "execution_count": 32,
   "metadata": {
    "scrolled": true
   },
   "outputs": [
    {
     "name": "stdout",
     "output_type": "stream",
     "text": [
      "Самый популярный аэропорт отправления ORD\n",
      "Самый популярный аэропорт прибытия ORD\n"
     ]
    }
   ],
   "source": [
    "print('Самый популярный аэропорт отправления {}'.format(dat.origin_airport.value_counts().keys()[0]))\n",
    "print('Самый популярный аэропорт прибытия {}'.format(dat.destination_airport.value_counts().keys()[0]))"
   ]
  },
  {
   "cell_type": "markdown",
   "metadata": {},
   "source": [
    "Вычислим частоты перемещений между аэропортами"
   ]
  },
  {
   "cell_type": "code",
   "execution_count": 33,
   "metadata": {},
   "outputs": [],
   "source": [
    "dat['origin_destination'] = dat['origin_airport'] + '_' + dat['destination_airport']\n",
    "dat['origin_destination'] = dat['origin_destination'].map(dict(dat.origin_destination.value_counts()))"
   ]
  },
  {
   "cell_type": "markdown",
   "metadata": {},
   "source": [
    "Есть ли связь между расстояниями между аэропортами и частотой перелётов между ними?"
   ]
  },
  {
   "cell_type": "code",
   "execution_count": 34,
   "metadata": {},
   "outputs": [
    {
     "data": {
      "image/png": "[encoded data removed]",
      "text/plain": [
       "<Figure size 576x576 with 1 Axes>"
      ]
     },
     "metadata": {},
     "output_type": "display_data"
    }
   ],
   "source": [
    "plt.scatter(dat.euclid_distance, dat.origin_destination);"
   ]
  },
  {
   "cell_type": "markdown",
   "metadata": {},
   "source": [
    "Какая-то положительная взаимосвязь есть, но на частоту полётов влияют так же и другие факторы"
   ]
  },
  {
   "cell_type": "markdown",
   "metadata": {},
   "source": [
    "Посмотрим на распределение числа пассажиров"
   ]
  },
  {
   "cell_type": "code",
   "execution_count": 35,
   "metadata": {},
   "outputs": [
    {
     "data": {
      "image/png": "[encoded data removed]",
      "text/plain": [
       "<Figure size 576x576 with 1 Axes>"
      ]
     },
     "metadata": {},
     "output_type": "display_data"
    }
   ],
   "source": [
    "sns.distplot(dat.passengers);"
   ]
  },
  {
   "cell_type": "markdown",
   "metadata": {},
   "source": [
    "Посмотрим на распределение расстояний "
   ]
  },
  {
   "cell_type": "code",
   "execution_count": 36,
   "metadata": {},
   "outputs": [
    {
     "data": {
      "image/png": "[encoded data removed]",
      "text/plain": [
       "<Figure size 576x576 with 1 Axes>"
      ]
     },
     "metadata": {},
     "output_type": "display_data"
    }
   ],
   "source": [
    "sns.distplot(dat.distance);"
   ]
  },
  {
   "cell_type": "markdown",
   "metadata": {},
   "source": [
    "Посмотрим на распределение численности городов"
   ]
  },
  {
   "cell_type": "code",
   "execution_count": 38,
   "metadata": {},
   "outputs": [
    {
     "data": {
      "image/png": "[encoded data removed]",
      "text/plain": [
       "<Figure size 576x576 with 1 Axes>"
      ]
     },
     "metadata": {},
     "output_type": "display_data"
    }
   ],
   "source": [
    "sns.distplot(dat.origin_population);"
   ]
  },
  {
   "cell_type": "markdown",
   "metadata": {},
   "source": [
    "Что можно сказать из этого графика?"
   ]
  },
  {
   "cell_type": "markdown",
   "metadata": {},
   "source": [
    "Посмотрим на распределение числа перелётов между аэропортами"
   ]
  },
  {
   "cell_type": "code",
   "execution_count": 40,
   "metadata": {},
   "outputs": [
    {
     "data": {
      "image/png": "[encoded data removed]",
      "text/plain": [
       "<Figure size 1800x720 with 1 Axes>"
      ]
     },
     "metadata": {},
     "output_type": "display_data"
    }
   ],
   "source": [
    "plt.figure(figsize=(25, 10))\n",
    "dat.flights.value_counts(1).sort_index()[:100].plot(kind='bar');\n",
    "plt.xticks(rotation=0);"
   ]
  },
  {
   "cell_type": "markdown",
   "metadata": {},
   "source": [
    "Зависимость между численностью жителей в городе и числом пассажиров"
   ]
  },
  {
   "cell_type": "code",
   "execution_count": 41,
   "metadata": {},
   "outputs": [
    {
     "data": {
      "image/png": "[encoded data removed]",
      "text/plain": [
       "<Figure size 576x576 with 1 Axes>"
      ]
     },
     "metadata": {},
     "output_type": "display_data"
    }
   ],
   "source": [
    "plt.scatter(dat.origin_population, dat.passengers);"
   ]
  },
  {
   "cell_type": "markdown",
   "metadata": {},
   "source": [
    "Из какого аэропорта в какой вылетело больше всего людей за один раз?"
   ]
  },
  {
   "cell_type": "code",
   "execution_count": 42,
   "metadata": {},
   "outputs": [
    {
     "data": {
      "text/html": [
       "<div>\n",
       "<style scoped>\n",
       "    .dataframe tbody tr th:only-of-type {\n",
       "        vertical-align: middle;\n",
       "    }\n",
       "\n",
       "    .dataframe tbody tr th {\n",
       "        vertical-align: top;\n",
       "    }\n",
       "\n",
       "    .dataframe thead th {\n",
       "        text-align: right;\n",
       "    }\n",
       "</style>\n",
       "<table border=\"1\" class=\"dataframe\">\n",
       "  <thead>\n",
       "    <tr style=\"text-align: right;\">\n",
       "      <th></th>\n",
       "      <th>origin_airport</th>\n",
       "      <th>destination_airport</th>\n",
       "      <th>passengers</th>\n",
       "    </tr>\n",
       "  </thead>\n",
       "  <tbody>\n",
       "    <tr>\n",
       "      <th>5376</th>\n",
       "      <td>LAX</td>\n",
       "      <td>SFO</td>\n",
       "      <td>70778</td>\n",
       "    </tr>\n",
       "    <tr>\n",
       "      <th>7156</th>\n",
       "      <td>OGG</td>\n",
       "      <td>HNL</td>\n",
       "      <td>69675</td>\n",
       "    </tr>\n",
       "    <tr>\n",
       "      <th>9096</th>\n",
       "      <td>SFO</td>\n",
       "      <td>LAX</td>\n",
       "      <td>65334</td>\n",
       "    </tr>\n",
       "    <tr>\n",
       "      <th>4158</th>\n",
       "      <td>HNL</td>\n",
       "      <td>OGG</td>\n",
       "      <td>65015</td>\n",
       "    </tr>\n",
       "    <tr>\n",
       "      <th>7357</th>\n",
       "      <td>ORD</td>\n",
       "      <td>DFW</td>\n",
       "      <td>59472</td>\n",
       "    </tr>\n",
       "  </tbody>\n",
       "</table>\n",
       "</div>"
      ],
      "text/plain": [
       "     origin_airport destination_airport  passengers\n",
       "5376            LAX                 SFO       70778\n",
       "7156            OGG                 HNL       69675\n",
       "9096            SFO                 LAX       65334\n",
       "4158            HNL                 OGG       65015\n",
       "7357            ORD                 DFW       59472"
      ]
     },
     "execution_count": 42,
     "metadata": {},
     "output_type": "execute_result"
    }
   ],
   "source": [
    "dat.groupby(['origin_airport', 'destination_airport'])['passengers'].max().reset_index().sort_values(by='passengers', ascending=False).head()"
   ]
  },
  {
   "cell_type": "markdown",
   "metadata": {},
   "source": [
    "Из какого аэропорта в какой вылетело больше всего людей суммарно?"
   ]
  },
  {
   "cell_type": "code",
   "execution_count": 43,
   "metadata": {},
   "outputs": [
    {
     "data": {
      "text/html": [
       "<div>\n",
       "<style scoped>\n",
       "    .dataframe tbody tr th:only-of-type {\n",
       "        vertical-align: middle;\n",
       "    }\n",
       "\n",
       "    .dataframe tbody tr th {\n",
       "        vertical-align: top;\n",
       "    }\n",
       "\n",
       "    .dataframe thead th {\n",
       "        text-align: right;\n",
       "    }\n",
       "</style>\n",
       "<table border=\"1\" class=\"dataframe\">\n",
       "  <thead>\n",
       "    <tr style=\"text-align: right;\">\n",
       "      <th></th>\n",
       "      <th>origin_airport</th>\n",
       "      <th>destination_airport</th>\n",
       "      <th>passengers</th>\n",
       "    </tr>\n",
       "  </thead>\n",
       "  <tbody>\n",
       "    <tr>\n",
       "      <th>7156</th>\n",
       "      <td>OGG</td>\n",
       "      <td>HNL</td>\n",
       "      <td>1159794</td>\n",
       "    </tr>\n",
       "    <tr>\n",
       "      <th>5376</th>\n",
       "      <td>LAX</td>\n",
       "      <td>SFO</td>\n",
       "      <td>887732</td>\n",
       "    </tr>\n",
       "    <tr>\n",
       "      <th>4158</th>\n",
       "      <td>HNL</td>\n",
       "      <td>OGG</td>\n",
       "      <td>851816</td>\n",
       "    </tr>\n",
       "    <tr>\n",
       "      <th>1230</th>\n",
       "      <td>BOS</td>\n",
       "      <td>LGA</td>\n",
       "      <td>835876</td>\n",
       "    </tr>\n",
       "    <tr>\n",
       "      <th>5332</th>\n",
       "      <td>LAX</td>\n",
       "      <td>LAS</td>\n",
       "      <td>799719</td>\n",
       "    </tr>\n",
       "  </tbody>\n",
       "</table>\n",
       "</div>"
      ],
      "text/plain": [
       "     origin_airport destination_airport  passengers\n",
       "7156            OGG                 HNL     1159794\n",
       "5376            LAX                 SFO      887732\n",
       "4158            HNL                 OGG      851816\n",
       "1230            BOS                 LGA      835876\n",
       "5332            LAX                 LAS      799719"
      ]
     },
     "execution_count": 43,
     "metadata": {},
     "output_type": "execute_result"
    }
   ],
   "source": [
    "dat.groupby(['origin_airport', 'destination_airport'])['passengers'].sum().reset_index().sort_values(by='passengers', ascending=False).head()"
   ]
  },
  {
   "cell_type": "markdown",
   "metadata": {},
   "source": [
    "У какого города больше всего аэропортов?"
   ]
  },
  {
   "cell_type": "code",
   "execution_count": 44,
   "metadata": {},
   "outputs": [
    {
     "data": {
      "text/plain": [
       "Dallas, TX        5\n",
       "Chicago, IL       4\n",
       "San Diego, CA     4\n",
       "Sacramento, CA    3\n",
       "Miami, FL         3\n",
       "Name: origin_city, dtype: int64"
      ]
     },
     "execution_count": 44,
     "metadata": {},
     "output_type": "execute_result"
    }
   ],
   "source": [
    "dat.groupby(['origin_city', 'origin_airport'])['passengers'].mean().reset_index()['origin_city'].value_counts().head()"
   ]
  },
  {
   "cell_type": "markdown",
   "metadata": {},
   "source": [
    "Из каких аэропортов только вылетают?"
   ]
  },
  {
   "cell_type": "code",
   "execution_count": 45,
   "metadata": {},
   "outputs": [
    {
     "data": {
      "text/plain": [
       "{'AST',\n",
       " 'BYH',\n",
       " 'DMA',\n",
       " 'DYS',\n",
       " 'HVR',\n",
       " 'JEF',\n",
       " 'LGU',\n",
       " 'LSF',\n",
       " 'MIB',\n",
       " 'MRI',\n",
       " 'MTN',\n",
       " 'MUO',\n",
       " 'NBG',\n",
       " 'NEW',\n",
       " 'NKX',\n",
       " 'NZY',\n",
       " 'OFK',\n",
       " 'OGD',\n",
       " 'PAM',\n",
       " 'PDK',\n",
       " 'PNE',\n",
       " 'RIW',\n",
       " 'TIW',\n",
       " 'TMB',\n",
       " 'UVA'}"
      ]
     },
     "execution_count": 45,
     "metadata": {},
     "output_type": "execute_result"
    }
   ],
   "source": [
    "dep_only = set(dat['origin_airport'].value_counts().keys()).difference(set(dat['destination_airport'].value_counts().keys()))\n",
    "dep_only"
   ]
  },
  {
   "cell_type": "markdown",
   "metadata": {},
   "source": [
    "В какие аэропорты только прилетают?"
   ]
  },
  {
   "cell_type": "code",
   "execution_count": 46,
   "metadata": {},
   "outputs": [
    {
     "data": {
      "text/plain": [
       "{'ADM',\n",
       " 'FFO',\n",
       " 'FTY',\n",
       " 'GSB',\n",
       " 'HIF',\n",
       " 'HMN',\n",
       " 'IAB',\n",
       " 'JXN',\n",
       " 'LAM',\n",
       " 'MGY',\n",
       " 'OCF',\n",
       " 'PUC',\n",
       " 'SKF',\n",
       " 'SSC',\n",
       " 'STJ',\n",
       " 'TIK',\n",
       " 'WRB'}"
      ]
     },
     "execution_count": 46,
     "metadata": {},
     "output_type": "execute_result"
    }
   ],
   "source": [
    "arr_only = set(dat['destination_airport'].value_counts().keys()).difference(set(dat['origin_airport'].value_counts().keys()))\n",
    "arr_only"
   ]
  },
  {
   "cell_type": "markdown",
   "metadata": {},
   "source": [
    "У какого аэропорта отношение $\\frac{\\text{число вылетов}}{\\text{число прилётов}}$ самое большое? (Оно будет равно $+\\infty$ для тех аэропортов, куда никто не прилетает, поэтому не будем их рассматривать)"
   ]
  },
  {
   "cell_type": "code",
   "execution_count": 47,
   "metadata": {},
   "outputs": [
    {
     "name": "stdout",
     "output_type": "stream",
     "text": [
      "[('ELD', 7.0), ('ESC', 6.0), ('VEL', 6.0), ('CLU', 5.0), ('CVO', 4.0)]\n"
     ]
    }
   ],
   "source": [
    "departure_counts_dict = dict(dat['origin_airport'].value_counts())\n",
    "arrival_counts_dict = dict(dat['destination_airport'].value_counts())\n",
    "departure_to_arrival_fraction_dict = {}\n",
    "# Убираем аэропорты, где не было прилётов\n",
    "for airport in dep_only:\n",
    "    if airport in departure_counts_dict:\n",
    "        del departure_counts_dict[airport]\n",
    "        \n",
    "for airport in departure_counts_dict:\n",
    "    departure_to_arrival_fraction_dict.update({airport: departure_counts_dict[airport]/arrival_counts_dict[airport]})\n",
    "\n",
    "print(sorted(departure_to_arrival_fraction_dict.items(), key=lambda x: x[1], reverse=True)[:5])"
   ]
  },
  {
   "cell_type": "markdown",
   "metadata": {},
   "source": [
    "Изобразим координаты всех аэропортов отправления и увидим карту США"
   ]
  },
  {
   "cell_type": "code",
   "execution_count": 50,
   "metadata": {},
   "outputs": [
    {
     "data": {
      "image/png": "[encoded data removed]",
      "text/plain": [
       "<Figure size 576x576 with 1 Axes>"
      ]
     },
     "metadata": {},
     "output_type": "display_data"
    }
   ],
   "source": [
    "plt.scatter(dat.org_airport_long, dat.org_airport_lat, s=0.5);"
   ]
  },
  {
   "cell_type": "markdown",
   "metadata": {},
   "source": [
    "---\n",
    "### Задачи\n",
    "---"
   ]
  },
  {
   "cell_type": "markdown",
   "metadata": {},
   "source": [
    "https://github.com/guipsamora/pandas_exercises/#visualization"
   ]
  },
  {
   "cell_type": "code",
   "execution_count": null,
   "metadata": {},
   "outputs": [],
   "source": []
  }
 ],
 "metadata": {
  "kernelspec": {
   "display_name": "Python 3",
   "language": "python",
   "name": "python3"
  },
  "language_info": {
   "codemirror_mode": {
    "name": "ipython",
    "version": 3
   },
   "file_extension": ".py",
   "mimetype": "text/x-python",
   "name": "python",
   "nbconvert_exporter": "python",
   "pygments_lexer": "ipython3",
   "version": "3.7.3"
  }
 },
 "nbformat": 4,
 "nbformat_minor": 2
}
