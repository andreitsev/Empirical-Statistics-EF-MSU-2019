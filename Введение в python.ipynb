{
 "cells": [
  {
   "cell_type": "markdown",
   "metadata": {},
   "source": [
    "## Основы питона"
   ]
  },
  {
   "cell_type": "markdown",
   "metadata": {},
   "source": [
    "На данном занятии мы познакомимся с основами языка python и некоторыми библиотеками, которые нам в дальнейшей понадобятся"
   ]
  },
  {
   "cell_type": "markdown",
   "metadata": {},
   "source": [
    "Ссылки на полезные источники:"
   ]
  },
  {
   "cell_type": "markdown",
   "metadata": {},
   "source": [
    "http://www.machinelearning.ru/wiki/images/9/93/PZAD2017_c1_python.pdf - полноценный обзор основных вещей\n",
    "\n",
    "https://github.com/Dyakonov/python_hacks/blob/master/dj_python_0_intro_20181004.ipynb - краткое введение\n",
    "\n",
    "https://github.com/Dyakonov/IML/blob/master/IML2018_03_numpy_04.pdf - библиотеки numpy, matplotlib, scipy\n",
    "\n",
    "https://github.com/Dyakonov/IML/blob/master/IML2018_08_pandas_01.pdf - библиотека pandas\n",
    "\n",
    "https://github.com/arti32lehtonen/mmp_prac_2017/blob/master/01.%20Introduction%20to%20Python/01_notebook.ipynb - аналог этого ноутбука"
   ]
  },
  {
   "cell_type": "markdown",
   "metadata": {},
   "source": [
    "Поехали!"
   ]
  },
  {
   "cell_type": "markdown",
   "metadata": {},
   "source": [
    "Питон можно использовать как калькулятор"
   ]
  },
  {
   "cell_type": "code",
   "execution_count": 164,
   "metadata": {},
   "outputs": [
    {
     "name": "stdout",
     "output_type": "stream",
     "text": [
      "18.3\n",
      "-8.3\n",
      "8.3\n",
      "0.37593984962406013\n",
      "0.0\n",
      "66.5\n",
      "5.0\n",
      "1978340572.134722\n",
      "1.1286366155414684\n",
      "13\n",
      "5.0\n",
      "False\n",
      "True\n",
      "False\n"
     ]
    }
   ],
   "source": [
    "a = 5 # целое число (int)\n",
    "b = 13.3 # число с плавающей точкой (десятичная дробь/float)\n",
    "# функция print() выводит на печать\n",
    "print(a + b)\n",
    "print(a - b)\n",
    "print(abs(a - b)) # модуль\n",
    "print(a/b)\n",
    "print(a//b) # целая часть от деления\n",
    "print(a*b)\n",
    "print(a%b) # целая часть от деления\n",
    "print(a**b) # возведение в степень\n",
    "print(a**(1/b)) # взятие корня степени b\n",
    "print(int(b)) # берёт нижнюю целую часть числа\n",
    "print(float(a)) # переводит в тип float\n",
    "print(a == b) # Возвращает True, если a = b и False иначе\n",
    "print(a != b) # Возвращает True, если a =/= b и False иначе\n",
    "print(a > b) # Возвращает True, если a > b и False иначе"
   ]
  },
  {
   "cell_type": "markdown",
   "metadata": {},
   "source": [
    "### Основные типы данных"
   ]
  },
  {
   "cell_type": "markdown",
   "metadata": {},
   "source": [
    "#### Список (list)"
   ]
  },
  {
   "cell_type": "code",
   "execution_count": 138,
   "metadata": {},
   "outputs": [
    {
     "name": "stdout",
     "output_type": "stream",
     "text": [
      "[1, 1, 2, 3, 5, 8, 13]\n",
      "[-1, 0, 1, 0, 0, 10]\n",
      "[0, 1, 2, 3, 4, 5, 6, 7, 8, 9, 10]\n",
      "[]\n"
     ]
    }
   ],
   "source": [
    "a = [1, 1, 2, 3, 5, 8, 13]\n",
    "b = list([-1, 0, 1, 0, 0, 10])\n",
    "c = [0, 1, 2, 3, 4, 5, 6, 7, 8, 9, 10]\n",
    "d = [] # пустой список\n",
    "print(a)\n",
    "print(b)\n",
    "print(c)\n",
    "print(d)"
   ]
  },
  {
   "cell_type": "code",
   "execution_count": 139,
   "metadata": {},
   "outputs": [
    {
     "name": "stdout",
     "output_type": "stream",
     "text": [
      "7\n",
      "6\n",
      "11\n",
      "0\n"
     ]
    }
   ],
   "source": [
    "#  возвращает длину списка\n",
    "print(len(a))\n",
    "print(len(b))\n",
    "print(len(c))\n",
    "print(len(d))"
   ]
  },
  {
   "cell_type": "code",
   "execution_count": 37,
   "metadata": {},
   "outputs": [
    {
     "name": "stdout",
     "output_type": "stream",
     "text": [
      "33\n",
      "10\n",
      "55\n"
     ]
    }
   ],
   "source": [
    "# возвращает сумму элементов списка\n",
    "print(sum(a))\n",
    "print(sum(b))\n",
    "print(sum(c))"
   ]
  },
  {
   "cell_type": "code",
   "execution_count": 39,
   "metadata": {},
   "outputs": [
    {
     "name": "stdout",
     "output_type": "stream",
     "text": [
      "[1, 1, 2, 3, 5, 8, 13, -1, 0, 1, 0, 0, 10]\n",
      "[1, 1, 2, 3, 5, 8, 13, 0, 1, 2, 3, 4, 5, 6, 7, 8, 9, 10, -1, 0, 1, 0, 0, 10]\n"
     ]
    }
   ],
   "source": [
    "# возвращает конкатенированный список\n",
    "print(a + b) \n",
    "print(a + c + b)"
   ]
  },
  {
   "cell_type": "markdown",
   "metadata": {},
   "source": [
    "Слайсинг:"
   ]
  },
  {
   "cell_type": "code",
   "execution_count": 43,
   "metadata": {},
   "outputs": [
    {
     "name": "stdout",
     "output_type": "stream",
     "text": [
      "[0, 1, 2]\n"
     ]
    }
   ],
   "source": [
    "# вернёт часть списка - нулевой, первый и второй (всего 3 элемента) элементы. В Питоне индексация начинается с 0.\n",
    "print(c[:3])"
   ]
  },
  {
   "cell_type": "code",
   "execution_count": 48,
   "metadata": {},
   "outputs": [
    {
     "name": "stdout",
     "output_type": "stream",
     "text": [
      "[5, 6, 7, 8, 9]\n"
     ]
    }
   ],
   "source": [
    "# вернёт часть списка - с 5ой позиции (помним что индексация с 0) по предпоследний элемент.\n",
    "print(c[5:-1])"
   ]
  },
  {
   "cell_type": "code",
   "execution_count": 54,
   "metadata": {},
   "outputs": [
    {
     "name": "stdout",
     "output_type": "stream",
     "text": [
      "[0, 2, 4, 6, 8]\n"
     ]
    }
   ],
   "source": [
    "# Вернётся все элементы с 0ого по предпоследний с шагом 2\n",
    "print(c[0:-1:2])"
   ]
  },
  {
   "cell_type": "code",
   "execution_count": 55,
   "metadata": {},
   "outputs": [
    {
     "name": "stdout",
     "output_type": "stream",
     "text": [
      "[10, 9, 8, 7, 6, 5, 4, 3, 2, 1, 0]\n"
     ]
    }
   ],
   "source": [
    "# Перевернёт список с обратную сторону\n",
    "print(c[::-1])"
   ]
  },
  {
   "cell_type": "code",
   "execution_count": 93,
   "metadata": {},
   "outputs": [
    {
     "name": "stdout",
     "output_type": "stream",
     "text": [
      "[0, 1, 2, 3, 4, 5, 6, 7, 8, 9, 10, -100]\n"
     ]
    }
   ],
   "source": [
    "# Добавление 1 значения в список\n",
    "c.append(-100)\n",
    "print(c)\n",
    "# Что будет если исполнить эту ячейку ещё раз?"
   ]
  },
  {
   "cell_type": "code",
   "execution_count": 95,
   "metadata": {},
   "outputs": [
    {
     "name": "stdout",
     "output_type": "stream",
     "text": [
      "[0, 1, 2, 3, 4, 5, 6, 7, 8, 9, 10, -100, -1, -2, -3, [-1, -2, -3]]\n"
     ]
    }
   ],
   "source": [
    "# Можно добавить несколько значений в список\n",
    "c.extend([-1, -2, -3])\n",
    "print(c)\n",
    "# Что будет если сделать то же самое, но коммандой .append()?"
   ]
  },
  {
   "cell_type": "code",
   "execution_count": 100,
   "metadata": {},
   "outputs": [
    {
     "name": "stdout",
     "output_type": "stream",
     "text": [
      "[15, 15, 0, 1, 2, 3, 4, 5, 6, 7, 8, 9, 10, -100, -1, -2, -3]\n",
      "[-1, -2, -3, 15, 15, 0, 1, 2, 3, 4, 5, 6, 7, 8, 9, 10, -100, -1, -2, -3]\n"
     ]
    }
   ],
   "source": [
    "# Можно добавить элемент вначало списка\n",
    "c[0:0] = [15]\n",
    "print(c)\n",
    "# Можно так же добавить несколько элементов вначало списка\n",
    "c[0:0] = [-1, -2, -3]\n",
    "print(c)"
   ]
  },
  {
   "cell_type": "code",
   "execution_count": 90,
   "metadata": {},
   "outputs": [
    {
     "name": "stdout",
     "output_type": "stream",
     "text": [
      "[0, 2, 3, 4, 5, 6, 7, 8, 9, 10]\n",
      "[-1, 1, 0, 0, 10]\n"
     ]
    }
   ],
   "source": [
    "# Можно удалить значение из списка\n",
    "c.remove(1)\n",
    "print(c)\n",
    "# Если таких значений в списке несколько - удалит первое\n",
    "b.remove(0)\n",
    "print(b)"
   ]
  },
  {
   "cell_type": "markdown",
   "metadata": {},
   "source": [
    "#### Множество (set)"
   ]
  },
  {
   "cell_type": "markdown",
   "metadata": {},
   "source": [
    "Множество, как в математике - список уникальных элементов"
   ]
  },
  {
   "cell_type": "code",
   "execution_count": 72,
   "metadata": {},
   "outputs": [
    {
     "name": "stdout",
     "output_type": "stream",
     "text": [
      "{1, 2, 3, 4, 5, 6}\n",
      "{100, 5, 6, 200, 300}\n"
     ]
    }
   ],
   "source": [
    "a = set([1, 1, 1, 2, 3, 4, 4, 4, 5, 6]) \n",
    "b = {5, 5, 5, 6, 6, 6, 100, 200, 200, 200, 300, 300, 300}\n",
    "print(a)\n",
    "print(b)"
   ]
  },
  {
   "cell_type": "code",
   "execution_count": 73,
   "metadata": {},
   "outputs": [
    {
     "name": "stdout",
     "output_type": "stream",
     "text": [
      "21\n",
      "611\n"
     ]
    }
   ],
   "source": [
    "# возвращает сумму элементов множества\n",
    "print(sum(a))\n",
    "print(sum(b))"
   ]
  },
  {
   "cell_type": "code",
   "execution_count": 74,
   "metadata": {},
   "outputs": [
    {
     "name": "stdout",
     "output_type": "stream",
     "text": [
      "{1, 2, 3, 4, 5, 6, 100, 200, 300}\n",
      "{1, 2, 3, 4}\n",
      "{1, 2, 3, 4, 200, 100, 300}\n"
     ]
    }
   ],
   "source": [
    "# множества можно объединять\n",
    "print(a.union(b))\n",
    "# можно брать разность \n",
    "print(a.difference(b)) # что вернёт b.difference(a) ?\n",
    "# можно брать симметрическую разность\n",
    "print(a.symmetric_difference(b))"
   ]
  },
  {
   "cell_type": "markdown",
   "metadata": {},
   "source": [
    "Полезное свойство множества: если вам нужно найти список уникальных значений - можно взять set() от списка"
   ]
  },
  {
   "cell_type": "code",
   "execution_count": 76,
   "metadata": {},
   "outputs": [
    {
     "name": "stdout",
     "output_type": "stream",
     "text": [
      "[1, 1, 1, 2, 3, 4, 4, 4, 5, 6]\n",
      "{1, 2, 3, 4, 5, 6}\n"
     ]
    }
   ],
   "source": [
    "a = [1, 1, 1, 2, 3, 4, 4, 4, 5, 6]\n",
    "print(a)\n",
    "print(set(a))"
   ]
  },
  {
   "cell_type": "markdown",
   "metadata": {},
   "source": [
    "#### Строка (string)"
   ]
  },
  {
   "cell_type": "code",
   "execution_count": 108,
   "metadata": {},
   "outputs": [
    {
     "name": "stdout",
     "output_type": "stream",
     "text": [
      "Some text, saved as a string\n",
      "One more text - why not?!\n"
     ]
    }
   ],
   "source": [
    "a = 'Some text, saved as a string'\n",
    "b = 'One more text - why not?!'\n",
    "print(a)\n",
    "print(b)"
   ]
  },
  {
   "cell_type": "code",
   "execution_count": 103,
   "metadata": {},
   "outputs": [
    {
     "name": "stdout",
     "output_type": "stream",
     "text": [
      "Some text, saved as a stringOne more text - why not?!\n",
      "Some text, saved as a string One more text - why not?!\n"
     ]
    }
   ],
   "source": [
    "# Строки можно конкатенировать\n",
    "print(a + b)\n",
    "print(a + ' ' + b)"
   ]
  },
  {
   "cell_type": "code",
   "execution_count": 114,
   "metadata": {},
   "outputs": [
    {
     "name": "stdout",
     "output_type": "stream",
     "text": [
      "['Some', 'text,', 'saved', 'as', 'a', 'string']\n",
      "Some text, saved as a string\n"
     ]
    }
   ],
   "source": [
    "# Строку можно \"расщепить\" в список\n",
    "g = a.split()\n",
    "print(g)\n",
    "# А можно обратно объединить список в строку\n",
    "f = ' '.join(g)\n",
    "print(f)"
   ]
  },
  {
   "cell_type": "code",
   "execution_count": 123,
   "metadata": {},
   "outputs": [
    {
     "name": "stdout",
     "output_type": "stream",
     "text": [
      "some text, saved as a string\n",
      "SOME TEXT, SAVED AS A STRING\n"
     ]
    }
   ],
   "source": [
    "# Можно привести текст к нижнему регистру\n",
    "print(a.lower())\n",
    "# Или все буквы капслоком\n",
    "print(a.upper())"
   ]
  },
  {
   "cell_type": "code",
   "execution_count": 121,
   "metadata": {},
   "outputs": [
    {
     "name": "stdout",
     "output_type": "stream",
     "text": [
      "Some text, <!!!>aved a<!!!> a <!!!>tring\n",
      "Some text, aved a a tring\n"
     ]
    }
   ],
   "source": [
    "# Можно заменить какой-то символ в строке на другой\n",
    "print(a.replace('s', '<!!!>'))\n",
    "# Как с помощью методы .replace() удалить символ ?"
   ]
  },
  {
   "cell_type": "code",
   "execution_count": 127,
   "metadata": {},
   "outputs": [
    {
     "name": "stdout",
     "output_type": "stream",
     "text": [
      "28\n",
      "25\n"
     ]
    }
   ],
   "source": [
    "# Считает длины текстов - количество символов (символ ' ' - тоже считается за 1, а '' - пустой символ, то есть не считается)\n",
    "print(len(a))\n",
    "print(len(b))"
   ]
  },
  {
   "cell_type": "code",
   "execution_count": 129,
   "metadata": {},
   "outputs": [
    {
     "name": "stdout",
     "output_type": "stream",
     "text": [
      "e text, save\n",
      "!?ton yhw - txet erom enO\n",
      "saved\n"
     ]
    }
   ],
   "source": [
    "# По строкам тоже можно делать слайсинги\n",
    "print(a[3:15])\n",
    "print(b[::-1])\n",
    "# Если нам нужно например 3 слово, то можно сделать так\n",
    "print(a.split()[2])"
   ]
  },
  {
   "cell_type": "markdown",
   "metadata": {},
   "source": [
    "#### Словарь (dict)"
   ]
  },
  {
   "cell_type": "markdown",
   "metadata": {},
   "source": [
    "Словарь - он и в Африке словарь - по ключу выдаёт значение"
   ]
  },
  {
   "cell_type": "code",
   "execution_count": 143,
   "metadata": {},
   "outputs": [
    {
     "name": "stdout",
     "output_type": "stream",
     "text": [
      "{'Маша': 19, 'Света': 21, 'Кирилл': 20, 'Василий Петрович': 45}\n",
      "{'Маша': 60, 'Света': 100, 'Кирилл': 50, 'Василий Петрович': 60}\n"
     ]
    }
   ],
   "source": [
    "names_dict = {'Маша': 19, \"Света\": 21, \"Кирилл\": 20, \"Василий Петрович\": 45}\n",
    "salary_dict = dict(zip(['Маша', \"Света\", \"Кирилл\", \"Василий Петрович\"], [60, 100, 50, 60]))\n",
    "print(new_dict)\n",
    "print(salary_dict)"
   ]
  },
  {
   "cell_type": "code",
   "execution_count": 133,
   "metadata": {},
   "outputs": [
    {
     "name": "stdout",
     "output_type": "stream",
     "text": [
      "19\n",
      "60\n"
     ]
    }
   ],
   "source": [
    "# Мы хотим узнать возраст Маши\n",
    "print(names_dict['Маша'])\n",
    "# Сколько зарабатывает Василий Петрович\n",
    "print(salary_dict['Василий Петрович'])"
   ]
  },
  {
   "cell_type": "code",
   "execution_count": 134,
   "metadata": {},
   "outputs": [
    {
     "name": "stdout",
     "output_type": "stream",
     "text": [
      "dict_keys(['Маша', 'Света', 'Кирилл', 'Василий Петрович'])\n"
     ]
    }
   ],
   "source": [
    "# Какие ключи есть в нашем словаре\n",
    "print(names_dict.keys())"
   ]
  },
  {
   "cell_type": "code",
   "execution_count": 135,
   "metadata": {},
   "outputs": [
    {
     "name": "stdout",
     "output_type": "stream",
     "text": [
      "['Маша', 'Света', 'Кирилл', 'Василий Петрович']\n"
     ]
    }
   ],
   "source": [
    "# Из этих ключей можно сделать список\n",
    "print(list(names_dict.keys()))"
   ]
  },
  {
   "cell_type": "code",
   "execution_count": 141,
   "metadata": {},
   "outputs": [
    {
     "name": "stdout",
     "output_type": "stream",
     "text": [
      "[19, 21, 20, 45]\n"
     ]
    }
   ],
   "source": [
    "# То же самое, можно сделать со значениями\n",
    "print(list(names_dict.values()))"
   ]
  },
  {
   "cell_type": "code",
   "execution_count": 144,
   "metadata": {},
   "outputs": [
    {
     "name": "stdout",
     "output_type": "stream",
     "text": [
      "{'Маша': 60, 'Света': 100, 'Кирилл': 90, 'Василий Петрович': 60}\n"
     ]
    }
   ],
   "source": [
    "# Кирилла повысили! Ему прибавили зп на Х, где Х это разница зп Светы и Василия Петровича - обновим словарь с зп\n",
    "salary_dict['Кирилл'] = salary_dict['Кирилл'] + salary_dict['Света'] - salary_dict['Василий Петрович']\n",
    "# Можно было так\n",
    "# salary_dict['Кирилл'] += salary_dict['Света'] - salary_dict['Василий Петрович']\n",
    "print(salary_dict)"
   ]
  },
  {
   "cell_type": "code",
   "execution_count": 152,
   "metadata": {},
   "outputs": [
    {
     "name": "stdout",
     "output_type": "stream",
     "text": [
      "{'Света': 21, 'Кирилл': 20, 'Василий Петрович': 45, 'Персивальда': 19}\n",
      "{'Света': 100, 'Кирилл': 90, 'Василий Петрович': 60, 'Персивальда': 60}\n"
     ]
    }
   ],
   "source": [
    "# Маша хочет знаменитой певицей, и думает что имя Персивальда ей подходит больше - обновим таблицу\n",
    "names_dict['Персивальда'] = names_dict['Маша']\n",
    "del names_dict['Маша'] # удаляем старую запись\n",
    "salary_dict['Персивальда'] = salary_dict['Маша']\n",
    "del salary_dict['Маша']\n",
    "print(names_dict)\n",
    "print(salary_dict)"
   ]
  },
  {
   "cell_type": "code",
   "execution_count": 155,
   "metadata": {},
   "outputs": [
    {
     "name": "stdout",
     "output_type": "stream",
     "text": [
      "1 способ\n",
      "{'Света': 21, 'Кирилл': 20, 'Василий Петрович': 45, 'Персивальда': 19, 'Костя': 30}\n",
      "{'Света': 100, 'Кирилл': 90, 'Василий Петрович': 60, 'Персивальда': 60, 'Костя': 80}\n",
      "2 способ\n",
      "{'Света': 21, 'Кирилл': 20, 'Василий Петрович': 45, 'Персивальда': 19, 'Костя': 30}\n",
      "{'Света': 100, 'Кирилл': 90, 'Василий Петрович': 60, 'Персивальда': 60, 'Костя': 80}\n"
     ]
    }
   ],
   "source": [
    "# В компании друзей новый человек - Костя. Ему 30 лет, и он зарабатывает 80к. Давайте добавим его в словари двумя способами\n",
    "print('1 способ')\n",
    "names_dict2 = {'Костя': 30}\n",
    "salary_dict2 = {'Костя': 80}\n",
    "names_dict_all = {**names_dict, **names_dict2}\n",
    "print(names_dict_all)\n",
    "salary_dict_all = {**salary_dict, **salary_dict2}\n",
    "print(salary_dict_all)\n",
    "print('2 способ')\n",
    "names_dict.update({'Костя': 30})\n",
    "salary_dict.update({'Костя': 80})\n",
    "print(names_dict)\n",
    "print(salary_dict)"
   ]
  },
  {
   "cell_type": "markdown",
   "metadata": {},
   "source": [
    "#### Кортеж (tuple)"
   ]
  },
  {
   "cell_type": "markdown",
   "metadata": {},
   "source": [
    "Кортеж - то же самое, что список, только неизменяемый"
   ]
  },
  {
   "cell_type": "code",
   "execution_count": 156,
   "metadata": {},
   "outputs": [
    {
     "name": "stdout",
     "output_type": "stream",
     "text": [
      "(1, 2, 3, 4, 4, 3)\n",
      "(11, 22, 33, 44, 44, 33, 22)\n"
     ]
    }
   ],
   "source": [
    "a = tuple([1, 2, 3, 4, 4, 3])\n",
    "b = (11, 22, 33, 44, 44, 33, 22)\n",
    "print(a)\n",
    "print(b)"
   ]
  },
  {
   "cell_type": "code",
   "execution_count": 162,
   "metadata": {},
   "outputs": [
    {
     "name": "stdout",
     "output_type": "stream",
     "text": [
      "[1, 2, 3, 4]\n",
      "[1, 2, 3, -10]\n",
      "(1, 2, 3, 4)\n"
     ]
    },
    {
     "ename": "TypeError",
     "evalue": "'tuple' object does not support item assignment",
     "output_type": "error",
     "traceback": [
      "\u001b[1;31m---------------------------------------------------------------------------\u001b[0m",
      "\u001b[1;31mTypeError\u001b[0m                                 Traceback (most recent call last)",
      "\u001b[1;32m<ipython-input-162-4a1077897f45>\u001b[0m in \u001b[0;36m<module>\u001b[1;34m\u001b[0m\n\u001b[0;32m      6\u001b[0m \u001b[0ma\u001b[0m \u001b[1;33m=\u001b[0m \u001b[1;33m(\u001b[0m\u001b[1;36m1\u001b[0m\u001b[1;33m,\u001b[0m \u001b[1;36m2\u001b[0m\u001b[1;33m,\u001b[0m \u001b[1;36m3\u001b[0m\u001b[1;33m,\u001b[0m \u001b[1;36m4\u001b[0m\u001b[1;33m)\u001b[0m\u001b[1;33m\u001b[0m\u001b[1;33m\u001b[0m\u001b[0m\n\u001b[0;32m      7\u001b[0m \u001b[0mprint\u001b[0m\u001b[1;33m(\u001b[0m\u001b[0ma\u001b[0m\u001b[1;33m)\u001b[0m\u001b[1;33m\u001b[0m\u001b[1;33m\u001b[0m\u001b[0m\n\u001b[1;32m----> 8\u001b[1;33m \u001b[0ma\u001b[0m\u001b[1;33m[\u001b[0m\u001b[1;36m3\u001b[0m\u001b[1;33m]\u001b[0m \u001b[1;33m=\u001b[0m \u001b[1;33m-\u001b[0m\u001b[1;36m10\u001b[0m\u001b[1;33m\u001b[0m\u001b[1;33m\u001b[0m\u001b[0m\n\u001b[0m\u001b[0;32m      9\u001b[0m \u001b[0mprint\u001b[0m\u001b[1;33m(\u001b[0m\u001b[0ma\u001b[0m\u001b[1;33m)\u001b[0m\u001b[1;33m\u001b[0m\u001b[1;33m\u001b[0m\u001b[0m\n",
      "\u001b[1;31mTypeError\u001b[0m: 'tuple' object does not support item assignment"
     ]
    }
   ],
   "source": [
    "# Для сравнения\n",
    "a = [1, 2, 3, 4]\n",
    "print(a)\n",
    "a[3] = -10\n",
    "print(a)\n",
    "a = (1, 2, 3, 4)\n",
    "print(a)\n",
    "a[3] = -10\n",
    "print(a)"
   ]
  },
  {
   "cell_type": "markdown",
   "metadata": {},
   "source": [
    "### Циклы"
   ]
  },
  {
   "cell_type": "code",
   "execution_count": 165,
   "metadata": {},
   "outputs": [
    {
     "name": "stdout",
     "output_type": "stream",
     "text": [
      "[0, 7, 14, 21]\n"
     ]
    }
   ],
   "source": [
    "# Задача: сохраним список со всеми значениями от 0 до 21, которые кратны 7\n",
    "a = []\n",
    "for i in range(21+1):\n",
    "    if i % 7 == 0:\n",
    "        a.append(i)\n",
    "print(a)"
   ]
  },
  {
   "cell_type": "code",
   "execution_count": 168,
   "metadata": {},
   "outputs": [
    {
     "name": "stdout",
     "output_type": "stream",
     "text": [
      "0 3\n",
      "1 4\n",
      "2 5\n",
      "3 0\n",
      "3 6\n",
      "4 1\n",
      "4 7\n",
      "5 2\n",
      "5 8\n",
      "6 3\n",
      "6 9\n",
      "7 4\n",
      "7 10\n",
      "8 5\n",
      "9 6\n",
      "10 7\n"
     ]
    }
   ],
   "source": [
    "# Можно так же написать двойные, тройные, ... циклы (но лучше избегать двойных и выше циклов)\n",
    "# Выведем все пары чисел от 0 до 10, разница между которыми равна 3\n",
    "for i in range(11):\n",
    "    for j in range(11):\n",
    "        if abs(i - j) == 3:\n",
    "            print(i, j)"
   ]
  },
  {
   "cell_type": "code",
   "execution_count": 173,
   "metadata": {},
   "outputs": [
    {
     "name": "stdout",
     "output_type": "stream",
     "text": [
      "30 80\n",
      "31 80\n",
      "32 80\n",
      "33 84\n",
      "34 84\n",
      "35 84\n",
      "36 88\n",
      "37 88\n",
      "38 88\n"
     ]
    }
   ],
   "source": [
    "# Вместо цикла for можно использовать цикл while\n",
    "# Задача: Косте повышают зп каждые 3 года на 4к рублей, выводить изменение его возраста и зарпалаты, пока его зп не станет >= 90к\n",
    "age = names_dict['Костя']\n",
    "salary = salary_dict['Костя']\n",
    "k = 0\n",
    "while salary < 90:\n",
    "    print(age, salary)\n",
    "    if (k + 1) % 3 == 0:\n",
    "        salary += 4\n",
    "    age += 1\n",
    "    k += 1"
   ]
  },
  {
   "cell_type": "code",
   "execution_count": 178,
   "metadata": {},
   "outputs": [
    {
     "name": "stdout",
     "output_type": "stream",
     "text": [
      "[0, 7, 14]\n"
     ]
    }
   ],
   "source": [
    "# Вместо циклов можно использовать генераторы списков (по сути это цикл внутри списка)\n",
    "# Задача: сохраним список со всеми значениями от 0 до 21, которые кратны 7\n",
    "a = [i for i in range(21) if i % 7 == 0]\n",
    "print(a)"
   ]
  },
  {
   "cell_type": "code",
   "execution_count": 185,
   "metadata": {},
   "outputs": [
    {
     "name": "stdout",
     "output_type": "stream",
     "text": [
      "0 S\n",
      "1 o\n",
      "2 m\n",
      "3 e\n",
      "4 t\n",
      "5 e\n",
      "6 x\n",
      "7 t\n"
     ]
    }
   ],
   "source": [
    "# Циклы можно делать по чему угодно, по чему можно итерироваться (например по строке) \n",
    "a = 'Some text'\n",
    "# Напишем цикл, который будет выводить все буквы сообщения и какая это по счёту буква ('' - будем считать не буквой)\n",
    "for n, letter in enumerate(a.replace(' ', '')):\n",
    "    print(n, letter)"
   ]
  },
  {
   "cell_type": "code",
   "execution_count": 188,
   "metadata": {},
   "outputs": [
    {
     "name": "stdout",
     "output_type": "stream",
     "text": [
      "0 S\n",
      "1 o\n",
      "2 m\n",
      "3 e\n",
      "4 t\n",
      "5 e\n",
      "6 x\n",
      "7 t\n"
     ]
    }
   ],
   "source": [
    "# То же самое, без enumerate\n",
    "k = 0\n",
    "for letter in a.replace(' ', ''):\n",
    "    print(k, letter)\n",
    "    k += 1"
   ]
  },
  {
   "cell_type": "markdown",
   "metadata": {},
   "source": [
    "### Функции"
   ]
  },
  {
   "cell_type": "markdown",
   "metadata": {},
   "source": [
    "Функции объявляются так:\n",
    "~~~    \n",
    "def some_function(arg1, arg2, ...):\n",
    "    do something here\n",
    "    return some output\n",
    "~~~"
   ]
  },
  {
   "cell_type": "code",
   "execution_count": 179,
   "metadata": {},
   "outputs": [],
   "source": [
    "# Например, напишем функцию \"Тупой калькулятор\" - она будет уметь только суммировать и умножать числа\n",
    "def dumb_calc(a, b, operation):\n",
    "    if operation == '+':\n",
    "        return a + b\n",
    "    elif operation == '*':\n",
    "        return a * b\n",
    "    else:\n",
    "        return \"Ваша операция непонятна для калькулятора\""
   ]
  },
  {
   "cell_type": "code",
   "execution_count": 183,
   "metadata": {},
   "outputs": [
    {
     "name": "stdout",
     "output_type": "stream",
     "text": [
      "8\n",
      "-2\n",
      "Ваша операция непонятна для калькулятора\n"
     ]
    }
   ],
   "source": [
    "print(dumb_calc(3, 5, operation='+'))\n",
    "print(dumb_calc(-1, 2, operation='*'))\n",
    "print(dumb_calc(11, 22, operation='-'))"
   ]
  },
  {
   "cell_type": "code",
   "execution_count": 200,
   "metadata": {},
   "outputs": [],
   "source": [
    "# Напишем более сложную функцию: пусть на вход подаётся список произвольных объектов, а мы должны вывести только чётные числа \n",
    "# в возрастающем порядке\n",
    "input_example = ['some text', 'some other text', 1, 2, 3, {'1': 2, '3': []}, [1, 1, 3], 4]\n",
    "def complex_function(x):\n",
    "    # оставим только числа\n",
    "    x = [x for x in x if isinstance(x, int) or isinstance(x, float)]\n",
    "    x.sort()\n",
    "    return [i for i in x if i % 2 == 0]"
   ]
  },
  {
   "cell_type": "code",
   "execution_count": 201,
   "metadata": {},
   "outputs": [
    {
     "data": {
      "text/plain": [
       "[2, 4]"
      ]
     },
     "execution_count": 201,
     "metadata": {},
     "output_type": "execute_result"
    }
   ],
   "source": [
    "complex_function(input_example)"
   ]
  },
  {
   "cell_type": "markdown",
   "metadata": {},
   "source": [
    "---\n",
    "### Задачи\n",
    "---"
   ]
  },
  {
   "cell_type": "markdown",
   "metadata": {},
   "source": [
    "1) Написать функцию subreverse_sequence(sequence), которая принимает на вход список чисел (int), а возвращает этот список в таком виде:\n",
    "сначала идут чётные числа в убывающем порядке, а затем нечётные числа в возрастающем порядке.\n",
    "\n",
    "\n",
    "Пример: sequence = [0, 1, 2, 3, 4, 5, 6]\n",
    "\n",
    "subreverse_sequence(sequence) = [6, 4, 2, 0, 1, 3, 5]"
   ]
  },
  {
   "cell_type": "code",
   "execution_count": null,
   "metadata": {},
   "outputs": [],
   "source": []
  },
  {
   "cell_type": "markdown",
   "metadata": {},
   "source": [
    "## Pandas, matplotlib, seaborn"
   ]
  },
  {
   "cell_type": "code",
   "execution_count": 15,
   "metadata": {},
   "outputs": [],
   "source": [
    "import os\n",
    "import pandas as pd\n",
    "import numpy as np\n",
    "from tqdm import tqdm_notebook # визуализация итераций\n",
    "import matplotlib\n",
    "# позволяет рисовать графики в ноутбуке\n",
    "%matplotlib inline \n",
    "import matplotlib.pyplot as plt\n",
    "import seaborn as sns\n",
    "matplotlib.rcParams['figure.figsize'] = (8, 8) # делает графики определённого разера\n",
    "sns.set_style('whitegrid') # делает сетку на графиках"
   ]
  },
  {
   "cell_type": "markdown",
   "metadata": {},
   "source": [
    "Будем изучать pandas на примере набора данных про перелёты"
   ]
  },
  {
   "cell_type": "code",
   "execution_count": 2,
   "metadata": {},
   "outputs": [],
   "source": [
    "FILE_PATH = '/Users/anton.andreytsev/empirical_statistics_ef_msu'"
   ]
  },
  {
   "cell_type": "code",
   "execution_count": 3,
   "metadata": {},
   "outputs": [],
   "source": [
    "# Загрузим файлы\n",
    "dat = pd.read_csv(os.path.join(FILE_PATH, 'data/Airports.csv'))\n",
    "locations = pd.read_csv(os.path.join(FILE_PATH, 'data/Locations.csv'))\n",
    "dat.columns = [col.lower() for col in dat.columns] # преведём названия переменных к нижнему регистру"
   ]
  },
  {
   "cell_type": "code",
   "execution_count": 4,
   "metadata": {},
   "outputs": [
    {
     "data": {
      "text/html": [
       "<div>\n",
       "<style scoped>\n",
       "    .dataframe tbody tr th:only-of-type {\n",
       "        vertical-align: middle;\n",
       "    }\n",
       "\n",
       "    .dataframe tbody tr th {\n",
       "        vertical-align: top;\n",
       "    }\n",
       "\n",
       "    .dataframe thead th {\n",
       "        text-align: right;\n",
       "    }\n",
       "</style>\n",
       "<table border=\"1\" class=\"dataframe\">\n",
       "  <thead>\n",
       "    <tr style=\"text-align: right;\">\n",
       "      <th></th>\n",
       "      <th>origin_airport</th>\n",
       "      <th>destination_airport</th>\n",
       "      <th>origin_city</th>\n",
       "      <th>destination_city</th>\n",
       "      <th>passengers</th>\n",
       "      <th>seats</th>\n",
       "      <th>flights</th>\n",
       "      <th>distance</th>\n",
       "      <th>fly_date</th>\n",
       "      <th>origin_population</th>\n",
       "      <th>destination_population</th>\n",
       "    </tr>\n",
       "  </thead>\n",
       "  <tbody>\n",
       "    <tr>\n",
       "      <th>0</th>\n",
       "      <td>MHK</td>\n",
       "      <td>AMW</td>\n",
       "      <td>Manhattan, KS</td>\n",
       "      <td>Ames, IA</td>\n",
       "      <td>21</td>\n",
       "      <td>30</td>\n",
       "      <td>1</td>\n",
       "      <td>254</td>\n",
       "      <td>200810</td>\n",
       "      <td>122049</td>\n",
       "      <td>86219</td>\n",
       "    </tr>\n",
       "    <tr>\n",
       "      <th>1</th>\n",
       "      <td>EUG</td>\n",
       "      <td>RDM</td>\n",
       "      <td>Eugene, OR</td>\n",
       "      <td>Bend, OR</td>\n",
       "      <td>41</td>\n",
       "      <td>396</td>\n",
       "      <td>22</td>\n",
       "      <td>103</td>\n",
       "      <td>199011</td>\n",
       "      <td>284093</td>\n",
       "      <td>76034</td>\n",
       "    </tr>\n",
       "    <tr>\n",
       "      <th>2</th>\n",
       "      <td>EUG</td>\n",
       "      <td>RDM</td>\n",
       "      <td>Eugene, OR</td>\n",
       "      <td>Bend, OR</td>\n",
       "      <td>88</td>\n",
       "      <td>342</td>\n",
       "      <td>19</td>\n",
       "      <td>103</td>\n",
       "      <td>199012</td>\n",
       "      <td>284093</td>\n",
       "      <td>76034</td>\n",
       "    </tr>\n",
       "    <tr>\n",
       "      <th>3</th>\n",
       "      <td>EUG</td>\n",
       "      <td>RDM</td>\n",
       "      <td>Eugene, OR</td>\n",
       "      <td>Bend, OR</td>\n",
       "      <td>11</td>\n",
       "      <td>72</td>\n",
       "      <td>4</td>\n",
       "      <td>103</td>\n",
       "      <td>199010</td>\n",
       "      <td>284093</td>\n",
       "      <td>76034</td>\n",
       "    </tr>\n",
       "    <tr>\n",
       "      <th>4</th>\n",
       "      <td>MFR</td>\n",
       "      <td>RDM</td>\n",
       "      <td>Medford, OR</td>\n",
       "      <td>Bend, OR</td>\n",
       "      <td>0</td>\n",
       "      <td>18</td>\n",
       "      <td>1</td>\n",
       "      <td>156</td>\n",
       "      <td>199002</td>\n",
       "      <td>147300</td>\n",
       "      <td>76034</td>\n",
       "    </tr>\n",
       "  </tbody>\n",
       "</table>\n",
       "</div>"
      ],
      "text/plain": [
       "  origin_airport destination_airport    origin_city destination_city  \\\n",
       "0            MHK                 AMW  Manhattan, KS         Ames, IA   \n",
       "1            EUG                 RDM     Eugene, OR         Bend, OR   \n",
       "2            EUG                 RDM     Eugene, OR         Bend, OR   \n",
       "3            EUG                 RDM     Eugene, OR         Bend, OR   \n",
       "4            MFR                 RDM    Medford, OR         Bend, OR   \n",
       "\n",
       "   passengers  seats  flights  distance  fly_date  origin_population  \\\n",
       "0          21     30        1       254    200810             122049   \n",
       "1          41    396       22       103    199011             284093   \n",
       "2          88    342       19       103    199012             284093   \n",
       "3          11     72        4       103    199010             284093   \n",
       "4           0     18        1       156    199002             147300   \n",
       "\n",
       "   destination_population  \n",
       "0                   86219  \n",
       "1                   76034  \n",
       "2                   76034  \n",
       "3                   76034  \n",
       "4                   76034  "
      ]
     },
     "execution_count": 4,
     "metadata": {},
     "output_type": "execute_result"
    }
   ],
   "source": [
    "# Посмотрим на пример имеющихся данных\n",
    "dat.head()"
   ]
  },
  {
   "cell_type": "code",
   "execution_count": 5,
   "metadata": {},
   "outputs": [
    {
     "data": {
      "text/html": [
       "<div>\n",
       "<style scoped>\n",
       "    .dataframe tbody tr th:only-of-type {\n",
       "        vertical-align: middle;\n",
       "    }\n",
       "\n",
       "    .dataframe tbody tr th {\n",
       "        vertical-align: top;\n",
       "    }\n",
       "\n",
       "    .dataframe thead th {\n",
       "        text-align: right;\n",
       "    }\n",
       "</style>\n",
       "<table border=\"1\" class=\"dataframe\">\n",
       "  <thead>\n",
       "    <tr style=\"text-align: right;\">\n",
       "      <th></th>\n",
       "      <th>Address</th>\n",
       "      <th>Latitude</th>\n",
       "      <th>Longitude</th>\n",
       "    </tr>\n",
       "  </thead>\n",
       "  <tbody>\n",
       "    <tr>\n",
       "      <th>0</th>\n",
       "      <td>BTI</td>\n",
       "      <td>70.134003</td>\n",
       "      <td>-143.582001</td>\n",
       "    </tr>\n",
       "    <tr>\n",
       "      <th>1</th>\n",
       "      <td>LUR</td>\n",
       "      <td>68.875099</td>\n",
       "      <td>-166.110001</td>\n",
       "    </tr>\n",
       "    <tr>\n",
       "      <th>2</th>\n",
       "      <td>PIZ</td>\n",
       "      <td>69.732903</td>\n",
       "      <td>-163.005005</td>\n",
       "    </tr>\n",
       "    <tr>\n",
       "      <th>3</th>\n",
       "      <td>ITO</td>\n",
       "      <td>19.721399</td>\n",
       "      <td>-155.048004</td>\n",
       "    </tr>\n",
       "    <tr>\n",
       "      <th>4</th>\n",
       "      <td>ORL</td>\n",
       "      <td>28.545500</td>\n",
       "      <td>-81.332901</td>\n",
       "    </tr>\n",
       "  </tbody>\n",
       "</table>\n",
       "</div>"
      ],
      "text/plain": [
       "  Address   Latitude   Longitude\n",
       "0     BTI  70.134003 -143.582001\n",
       "1     LUR  68.875099 -166.110001\n",
       "2     PIZ  69.732903 -163.005005\n",
       "3     ITO  19.721399 -155.048004\n",
       "4     ORL  28.545500  -81.332901"
      ]
     },
     "execution_count": 5,
     "metadata": {},
     "output_type": "execute_result"
    }
   ],
   "source": [
    "locations.head()"
   ]
  },
  {
   "cell_type": "code",
   "execution_count": 6,
   "metadata": {},
   "outputs": [],
   "source": [
    "# Добавим в dat 4 колонки: координаты аэропорта отправления и координаты аэропорта прибытия\n",
    "latitude_dict = dict(zip(locations.Address, locations.Latitude))\n",
    "longitude_dict = dict(zip(locations.Address, locations.Longitude))\n",
    "dat['origin_latitude'] = dat.origin_airport.map(latitude_dict)\n",
    "dat['origin_longitude'] = dat.origin_airport.map(longitude_dict)\n",
    "dat['destination_latitude'] = dat.destination_airport.map(latitude_dict)\n",
    "dat['destination_longitude'] = dat.destination_airport.map(longitude_dict)"
   ]
  },
  {
   "cell_type": "code",
   "execution_count": 7,
   "metadata": {},
   "outputs": [
    {
     "data": {
      "text/plain": [
       "(3606803, 15)"
      ]
     },
     "execution_count": 7,
     "metadata": {},
     "output_type": "execute_result"
    }
   ],
   "source": [
    "# Посмотрим на размер данных (строки, столбцы)\n",
    "dat.shape"
   ]
  },
  {
   "cell_type": "code",
   "execution_count": 8,
   "metadata": {},
   "outputs": [
    {
     "data": {
      "text/plain": [
       "origin_airport             object\n",
       "destination_airport        object\n",
       "origin_city                object\n",
       "destination_city           object\n",
       "passengers                  int64\n",
       "seats                       int64\n",
       "flights                     int64\n",
       "distance                    int64\n",
       "fly_date                    int64\n",
       "origin_population           int64\n",
       "destination_population      int64\n",
       "origin_latitude           float64\n",
       "origin_longitude          float64\n",
       "destination_latitude      float64\n",
       "destination_longitude     float64\n",
       "dtype: object"
      ]
     },
     "execution_count": 8,
     "metadata": {},
     "output_type": "execute_result"
    }
   ],
   "source": [
    "# Посмотрим на описание типов переменных\n",
    "dat.dtypes"
   ]
  },
  {
   "cell_type": "code",
   "execution_count": 9,
   "metadata": {},
   "outputs": [
    {
     "data": {
      "text/plain": [
       "origin_airport               0\n",
       "destination_airport          0\n",
       "origin_city                  0\n",
       "destination_city             0\n",
       "passengers                   0\n",
       "seats                        0\n",
       "flights                      0\n",
       "distance                     0\n",
       "fly_date                     0\n",
       "origin_population            0\n",
       "destination_population       0\n",
       "origin_latitude           6171\n",
       "origin_longitude          6171\n",
       "destination_latitude      6069\n",
       "destination_longitude     6069\n",
       "dtype: int64"
      ]
     },
     "execution_count": 9,
     "metadata": {},
     "output_type": "execute_result"
    }
   ],
   "source": [
    "# Посмотрим на число пропущенных значений по каждой переменной\n",
    "dat.isnull().sum()"
   ]
  },
  {
   "cell_type": "markdown",
   "metadata": {},
   "source": [
    "У некоторых аэропортов нет координат. Давайте удалим такие строки"
   ]
  },
  {
   "cell_type": "code",
   "execution_count": 10,
   "metadata": {},
   "outputs": [],
   "source": [
    "dat = dat.dropna()\n",
    "dat.index = range(dat.shape[0])"
   ]
  },
  {
   "cell_type": "markdown",
   "metadata": {},
   "source": [
    "Возьмём случайные 100 000 строк, чтобы вычисления были быстрее"
   ]
  },
  {
   "cell_type": "code",
   "execution_count": 11,
   "metadata": {},
   "outputs": [
    {
     "data": {
      "text/plain": [
       "(100000, 15)"
      ]
     },
     "execution_count": 11,
     "metadata": {},
     "output_type": "execute_result"
    }
   ],
   "source": [
    "dat = dat.loc[np.random.randint(0, len(dat), size=100000)]\n",
    "dat.index = range(dat.shape[0])\n",
    "dat.shape"
   ]
  },
  {
   "cell_type": "code",
   "execution_count": 12,
   "metadata": {},
   "outputs": [
    {
     "data": {
      "text/html": [
       "<div>\n",
       "<style scoped>\n",
       "    .dataframe tbody tr th:only-of-type {\n",
       "        vertical-align: middle;\n",
       "    }\n",
       "\n",
       "    .dataframe tbody tr th {\n",
       "        vertical-align: top;\n",
       "    }\n",
       "\n",
       "    .dataframe thead th {\n",
       "        text-align: right;\n",
       "    }\n",
       "</style>\n",
       "<table border=\"1\" class=\"dataframe\">\n",
       "  <thead>\n",
       "    <tr style=\"text-align: right;\">\n",
       "      <th></th>\n",
       "      <th>origin_airport</th>\n",
       "      <th>destination_airport</th>\n",
       "      <th>origin_city</th>\n",
       "      <th>destination_city</th>\n",
       "      <th>passengers</th>\n",
       "      <th>seats</th>\n",
       "      <th>flights</th>\n",
       "      <th>distance</th>\n",
       "      <th>fly_date</th>\n",
       "      <th>origin_population</th>\n",
       "      <th>destination_population</th>\n",
       "      <th>origin_latitude</th>\n",
       "      <th>origin_longitude</th>\n",
       "      <th>destination_latitude</th>\n",
       "      <th>destination_longitude</th>\n",
       "    </tr>\n",
       "  </thead>\n",
       "  <tbody>\n",
       "    <tr>\n",
       "      <th>0</th>\n",
       "      <td>SAV</td>\n",
       "      <td>GPT</td>\n",
       "      <td>Savannah, GA</td>\n",
       "      <td>Gulfport, MS</td>\n",
       "      <td>18</td>\n",
       "      <td>50</td>\n",
       "      <td>1</td>\n",
       "      <td>480</td>\n",
       "      <td>200011</td>\n",
       "      <td>293668</td>\n",
       "      <td>246838</td>\n",
       "      <td>32.127602</td>\n",
       "      <td>-81.202103</td>\n",
       "      <td>30.407301</td>\n",
       "      <td>-89.070099</td>\n",
       "    </tr>\n",
       "    <tr>\n",
       "      <th>1</th>\n",
       "      <td>ATL</td>\n",
       "      <td>SFO</td>\n",
       "      <td>Atlanta, GA</td>\n",
       "      <td>San Francisco, CA</td>\n",
       "      <td>8940</td>\n",
       "      <td>12005</td>\n",
       "      <td>66</td>\n",
       "      <td>2139</td>\n",
       "      <td>199804</td>\n",
       "      <td>3872031</td>\n",
       "      <td>7996466</td>\n",
       "      <td>33.636700</td>\n",
       "      <td>-84.428101</td>\n",
       "      <td>37.618999</td>\n",
       "      <td>-122.375000</td>\n",
       "    </tr>\n",
       "    <tr>\n",
       "      <th>2</th>\n",
       "      <td>STL</td>\n",
       "      <td>LIT</td>\n",
       "      <td>St. Louis, MO</td>\n",
       "      <td>Little Rock, AR</td>\n",
       "      <td>763</td>\n",
       "      <td>1100</td>\n",
       "      <td>11</td>\n",
       "      <td>296</td>\n",
       "      <td>199903</td>\n",
       "      <td>2663420</td>\n",
       "      <td>584736</td>\n",
       "      <td>38.748699</td>\n",
       "      <td>-90.370003</td>\n",
       "      <td>34.729401</td>\n",
       "      <td>-92.224297</td>\n",
       "    </tr>\n",
       "    <tr>\n",
       "      <th>3</th>\n",
       "      <td>ATL</td>\n",
       "      <td>PWM</td>\n",
       "      <td>Atlanta, GA</td>\n",
       "      <td>Portland, ME</td>\n",
       "      <td>6971</td>\n",
       "      <td>8330</td>\n",
       "      <td>119</td>\n",
       "      <td>1027</td>\n",
       "      <td>200511</td>\n",
       "      <td>4947012</td>\n",
       "      <td>511498</td>\n",
       "      <td>33.636700</td>\n",
       "      <td>-84.428101</td>\n",
       "      <td>43.646198</td>\n",
       "      <td>-70.309303</td>\n",
       "    </tr>\n",
       "    <tr>\n",
       "      <th>4</th>\n",
       "      <td>PHX</td>\n",
       "      <td>LAX</td>\n",
       "      <td>Phoenix, AZ</td>\n",
       "      <td>Los Angeles, CA</td>\n",
       "      <td>6319</td>\n",
       "      <td>7930</td>\n",
       "      <td>65</td>\n",
       "      <td>370</td>\n",
       "      <td>199401</td>\n",
       "      <td>2549507</td>\n",
       "      <td>23179000</td>\n",
       "      <td>33.434299</td>\n",
       "      <td>-112.012001</td>\n",
       "      <td>33.942501</td>\n",
       "      <td>-118.407997</td>\n",
       "    </tr>\n",
       "  </tbody>\n",
       "</table>\n",
       "</div>"
      ],
      "text/plain": [
       "  origin_airport destination_airport    origin_city   destination_city  \\\n",
       "0            SAV                 GPT   Savannah, GA       Gulfport, MS   \n",
       "1            ATL                 SFO    Atlanta, GA  San Francisco, CA   \n",
       "2            STL                 LIT  St. Louis, MO    Little Rock, AR   \n",
       "3            ATL                 PWM    Atlanta, GA       Portland, ME   \n",
       "4            PHX                 LAX    Phoenix, AZ    Los Angeles, CA   \n",
       "\n",
       "   passengers  seats  flights  distance  fly_date  origin_population  \\\n",
       "0          18     50        1       480    200011             293668   \n",
       "1        8940  12005       66      2139    199804            3872031   \n",
       "2         763   1100       11       296    199903            2663420   \n",
       "3        6971   8330      119      1027    200511            4947012   \n",
       "4        6319   7930       65       370    199401            2549507   \n",
       "\n",
       "   destination_population  origin_latitude  origin_longitude  \\\n",
       "0                  246838        32.127602        -81.202103   \n",
       "1                 7996466        33.636700        -84.428101   \n",
       "2                  584736        38.748699        -90.370003   \n",
       "3                  511498        33.636700        -84.428101   \n",
       "4                23179000        33.434299       -112.012001   \n",
       "\n",
       "   destination_latitude  destination_longitude  \n",
       "0             30.407301             -89.070099  \n",
       "1             37.618999            -122.375000  \n",
       "2             34.729401             -92.224297  \n",
       "3             43.646198             -70.309303  \n",
       "4             33.942501            -118.407997  "
      ]
     },
     "execution_count": 12,
     "metadata": {},
     "output_type": "execute_result"
    }
   ],
   "source": [
    "dat.head()"
   ]
  },
  {
   "cell_type": "markdown",
   "metadata": {},
   "source": [
    "Посчитаем Евклидово расстояние между аэропортами - совпадает ли оно с distance переменной?"
   ]
  },
  {
   "cell_type": "code",
   "execution_count": 13,
   "metadata": {},
   "outputs": [],
   "source": [
    "dat['euclid_distance'] = np.sqrt((dat['origin_latitude'] - dat['destination_latitude'])**2 + \n",
    "                                 (dat['origin_longitude'] - dat['destination_longitude'])**2)"
   ]
  },
  {
   "cell_type": "code",
   "execution_count": 16,
   "metadata": {},
   "outputs": [
    {
     "data": {
      "image/png": "[encoded data removed]",
      "text/plain": [
       "<Figure size 576x576 with 1 Axes>"
      ]
     },
     "metadata": {},
     "output_type": "display_data"
    }
   ],
   "source": [
    "plt.scatter(dat.euclid_distance, dat.distance);\n",
    "plt.xlabel('Евклидово расстояние', fontsize=15)\n",
    "plt.ylabel('dist', fontsize=15);"
   ]
  },
  {
   "cell_type": "markdown",
   "metadata": {},
   "source": [
    "Есть линейная связь между dist и евклидовым расстоянием, однако есть аэропорты, которые отклоняются от этой связи - возможно расстояние до них измерялось как-то иначе"
   ]
  },
  {
   "cell_type": "markdown",
   "metadata": {},
   "source": [
    "Посмотрим на корреляционную матрицу"
   ]
  },
  {
   "cell_type": "code",
   "execution_count": 17,
   "metadata": {},
   "outputs": [
    {
     "data": {
      "image/png": "[encoded data removed]",
      "text/plain": [
       "<Figure size 720x720 with 2 Axes>"
      ]
     },
     "metadata": {},
     "output_type": "display_data"
    }
   ],
   "source": [
    "plt.figure(figsize=(10, 10))\n",
    "sns.heatmap(dat.corr(), annot=True)\n",
    "plt.xticks(fontsize=15);\n",
    "plt.yticks(fontsize=15);"
   ]
  },
  {
   "cell_type": "markdown",
   "metadata": {},
   "source": [
    "Есть сильная взаимосвязь между числом пассажиров и числом мест на борту"
   ]
  },
  {
   "cell_type": "code",
   "execution_count": 18,
   "metadata": {
    "scrolled": true
   },
   "outputs": [
    {
     "name": "stdout",
     "output_type": "stream",
     "text": [
      "Самый популярный аэропорт отправления ORD\n",
      "Самый популярный аэропорт прибытия ORD\n"
     ]
    }
   ],
   "source": [
    "print('Самый популярный аэропорт отправления {}'.format(dat.origin_airport.value_counts().keys()[0]))\n",
    "print('Самый популярный аэропорт прибытия {}'.format(dat.destination_airport.value_counts().keys()[0]))"
   ]
  },
  {
   "cell_type": "markdown",
   "metadata": {},
   "source": [
    "Вычислим частоты перемещений между аэропортами"
   ]
  },
  {
   "cell_type": "code",
   "execution_count": 19,
   "metadata": {},
   "outputs": [],
   "source": [
    "dat['origin_destination'] = dat['origin_airport'] + '_' + dat['destination_airport']\n",
    "dat['origin_destination'] = dat['origin_destination'].map(dict(dat.origin_destination.value_counts()))"
   ]
  },
  {
   "cell_type": "markdown",
   "metadata": {},
   "source": [
    "Есть ли связь между расстояниями между аэропортами и частотой перелётов между ними?"
   ]
  },
  {
   "cell_type": "code",
   "execution_count": 20,
   "metadata": {},
   "outputs": [
    {
     "data": {
      "image/png": "[encoded data removed]",
      "text/plain": [
       "<Figure size 576x576 with 1 Axes>"
      ]
     },
     "metadata": {},
     "output_type": "display_data"
    }
   ],
   "source": [
    "plt.scatter(dat.euclid_distance, dat.origin_destination);"
   ]
  },
  {
   "cell_type": "markdown",
   "metadata": {},
   "source": [
    "Какая-то положительная взаимосвязь есть, но на частоту полётов влияют так же и другие факторы"
   ]
  },
  {
   "cell_type": "markdown",
   "metadata": {},
   "source": [
    "Посмотрим на распределение числа пассажиров"
   ]
  },
  {
   "cell_type": "code",
   "execution_count": 21,
   "metadata": {},
   "outputs": [
    {
     "data": {
      "image/png": "[encoded data removed]",
      "text/plain": [
       "<Figure size 576x576 with 1 Axes>"
      ]
     },
     "metadata": {},
     "output_type": "display_data"
    }
   ],
   "source": [
    "sns.distplot(dat.passengers);"
   ]
  },
  {
   "cell_type": "markdown",
   "metadata": {},
   "source": [
    "Посмотрим на распределение расстояний "
   ]
  },
  {
   "cell_type": "code",
   "execution_count": 22,
   "metadata": {},
   "outputs": [
    {
     "data": {
      "image/png": "[encoded data removed]",
      "text/plain": [
       "<Figure size 576x576 with 1 Axes>"
      ]
     },
     "metadata": {},
     "output_type": "display_data"
    }
   ],
   "source": [
    "sns.distplot(dat.distance);"
   ]
  },
  {
   "cell_type": "markdown",
   "metadata": {},
   "source": [
    "Посмотрим на распределение численности городов"
   ]
  },
  {
   "cell_type": "code",
   "execution_count": 23,
   "metadata": {},
   "outputs": [
    {
     "data": {
      "text/plain": [
       "<matplotlib.axes._subplots.AxesSubplot at 0x1a11472ec18>"
      ]
     },
     "execution_count": 23,
     "metadata": {},
     "output_type": "execute_result"
    },
    {
     "data": {
      "image/png": "[encoded data removed]",
      "text/plain": [
       "<Figure size 576x576 with 1 Axes>"
      ]
     },
     "metadata": {},
     "output_type": "display_data"
    }
   ],
   "source": [
    "sns.distplot(dat.origin_population)"
   ]
  },
  {
   "cell_type": "markdown",
   "metadata": {},
   "source": [
    "Что можно сказать из этого графика?"
   ]
  },
  {
   "cell_type": "markdown",
   "metadata": {},
   "source": [
    "Посмотрим на распределение числа перелётов между аэропортами"
   ]
  },
  {
   "cell_type": "code",
   "execution_count": 94,
   "metadata": {},
   "outputs": [
    {
     "data": {
      "image/png": "[encoded data removed]",
      "text/plain": [
       "<Figure size 1800x720 with 1 Axes>"
      ]
     },
     "metadata": {},
     "output_type": "display_data"
    }
   ],
   "source": [
    "plt.figure(figsize=(25, 10))\n",
    "dat.flights.value_counts(1).sort_index()[:100].plot(kind='bar');"
   ]
  },
  {
   "cell_type": "markdown",
   "metadata": {},
   "source": [
    "Зависимость между численностью жителей в городе и числом пассажиров"
   ]
  },
  {
   "cell_type": "code",
   "execution_count": 97,
   "metadata": {},
   "outputs": [
    {
     "data": {
      "image/png": "[encoded data removed]",
      "text/plain": [
       "<Figure size 576x576 with 1 Axes>"
      ]
     },
     "metadata": {},
     "output_type": "display_data"
    }
   ],
   "source": [
    "plt.scatter(dat.origin_population, dat.passengers);"
   ]
  },
  {
   "cell_type": "markdown",
   "metadata": {},
   "source": [
    "Из какого аэропорта в какой вылетело больше всего людей за один раз?"
   ]
  },
  {
   "cell_type": "code",
   "execution_count": 28,
   "metadata": {},
   "outputs": [
    {
     "data": {
      "text/html": [
       "<div>\n",
       "<style scoped>\n",
       "    .dataframe tbody tr th:only-of-type {\n",
       "        vertical-align: middle;\n",
       "    }\n",
       "\n",
       "    .dataframe tbody tr th {\n",
       "        vertical-align: top;\n",
       "    }\n",
       "\n",
       "    .dataframe thead th {\n",
       "        text-align: right;\n",
       "    }\n",
       "</style>\n",
       "<table border=\"1\" class=\"dataframe\">\n",
       "  <thead>\n",
       "    <tr style=\"text-align: right;\">\n",
       "      <th></th>\n",
       "      <th>origin_airport</th>\n",
       "      <th>destination_airport</th>\n",
       "      <th>passengers</th>\n",
       "    </tr>\n",
       "  </thead>\n",
       "  <tbody>\n",
       "    <tr>\n",
       "      <th>9060</th>\n",
       "      <td>SFO</td>\n",
       "      <td>LAX</td>\n",
       "      <td>70291</td>\n",
       "    </tr>\n",
       "    <tr>\n",
       "      <th>4196</th>\n",
       "      <td>HNL</td>\n",
       "      <td>OGG</td>\n",
       "      <td>68617</td>\n",
       "    </tr>\n",
       "    <tr>\n",
       "      <th>7174</th>\n",
       "      <td>OGG</td>\n",
       "      <td>HNL</td>\n",
       "      <td>66447</td>\n",
       "    </tr>\n",
       "    <tr>\n",
       "      <th>7413</th>\n",
       "      <td>ORD</td>\n",
       "      <td>LGA</td>\n",
       "      <td>59602</td>\n",
       "    </tr>\n",
       "    <tr>\n",
       "      <th>7132</th>\n",
       "      <td>OAK</td>\n",
       "      <td>LAX</td>\n",
       "      <td>58191</td>\n",
       "    </tr>\n",
       "  </tbody>\n",
       "</table>\n",
       "</div>"
      ],
      "text/plain": [
       "     origin_airport destination_airport  passengers\n",
       "9060            SFO                 LAX       70291\n",
       "4196            HNL                 OGG       68617\n",
       "7174            OGG                 HNL       66447\n",
       "7413            ORD                 LGA       59602\n",
       "7132            OAK                 LAX       58191"
      ]
     },
     "execution_count": 28,
     "metadata": {},
     "output_type": "execute_result"
    }
   ],
   "source": [
    "dat.groupby(['origin_airport', 'destination_airport'])['passengers'].max().reset_index().sort_values(by='passengers', ascending=False).head()"
   ]
  },
  {
   "cell_type": "markdown",
   "metadata": {},
   "source": [
    "Из какого аэропорта в какой вылетело больше всего людей суммарно?"
   ]
  },
  {
   "cell_type": "code",
   "execution_count": 30,
   "metadata": {},
   "outputs": [
    {
     "data": {
      "text/html": [
       "<div>\n",
       "<style scoped>\n",
       "    .dataframe tbody tr th:only-of-type {\n",
       "        vertical-align: middle;\n",
       "    }\n",
       "\n",
       "    .dataframe tbody tr th {\n",
       "        vertical-align: top;\n",
       "    }\n",
       "\n",
       "    .dataframe thead th {\n",
       "        text-align: right;\n",
       "    }\n",
       "</style>\n",
       "<table border=\"1\" class=\"dataframe\">\n",
       "  <thead>\n",
       "    <tr style=\"text-align: right;\">\n",
       "      <th></th>\n",
       "      <th>origin_airport</th>\n",
       "      <th>destination_airport</th>\n",
       "      <th>passengers</th>\n",
       "    </tr>\n",
       "  </thead>\n",
       "  <tbody>\n",
       "    <tr>\n",
       "      <th>4196</th>\n",
       "      <td>HNL</td>\n",
       "      <td>OGG</td>\n",
       "      <td>1161242</td>\n",
       "    </tr>\n",
       "    <tr>\n",
       "      <th>5232</th>\n",
       "      <td>LAS</td>\n",
       "      <td>LAX</td>\n",
       "      <td>997943</td>\n",
       "    </tr>\n",
       "    <tr>\n",
       "      <th>5339</th>\n",
       "      <td>LAX</td>\n",
       "      <td>HNL</td>\n",
       "      <td>871544</td>\n",
       "    </tr>\n",
       "    <tr>\n",
       "      <th>4192</th>\n",
       "      <td>HNL</td>\n",
       "      <td>LAX</td>\n",
       "      <td>825243</td>\n",
       "    </tr>\n",
       "    <tr>\n",
       "      <th>7411</th>\n",
       "      <td>ORD</td>\n",
       "      <td>LAX</td>\n",
       "      <td>805490</td>\n",
       "    </tr>\n",
       "  </tbody>\n",
       "</table>\n",
       "</div>"
      ],
      "text/plain": [
       "     origin_airport destination_airport  passengers\n",
       "4196            HNL                 OGG     1161242\n",
       "5232            LAS                 LAX      997943\n",
       "5339            LAX                 HNL      871544\n",
       "4192            HNL                 LAX      825243\n",
       "7411            ORD                 LAX      805490"
      ]
     },
     "execution_count": 30,
     "metadata": {},
     "output_type": "execute_result"
    }
   ],
   "source": [
    "dat.groupby(['origin_airport', 'destination_airport'])['passengers'].sum().reset_index().sort_values(by='passengers', ascending=False).head()"
   ]
  },
  {
   "cell_type": "markdown",
   "metadata": {},
   "source": [
    "У какого города больше всего аэропортов?"
   ]
  },
  {
   "cell_type": "code",
   "execution_count": 36,
   "metadata": {},
   "outputs": [
    {
     "data": {
      "text/plain": [
       "Dallas, TX        5\n",
       "Chicago, IL       5\n",
       "San Diego, CA     4\n",
       "Sacramento, CA    3\n",
       "Fairbanks, AK     3\n",
       "Name: origin_city, dtype: int64"
      ]
     },
     "execution_count": 36,
     "metadata": {},
     "output_type": "execute_result"
    }
   ],
   "source": [
    "dat.groupby(['origin_city', 'origin_airport'])['passengers'].mean().reset_index()['origin_city'].value_counts().head()"
   ]
  },
  {
   "cell_type": "markdown",
   "metadata": {},
   "source": [
    "Из каких аэропортов только вылетают?"
   ]
  },
  {
   "cell_type": "code",
   "execution_count": 44,
   "metadata": {},
   "outputs": [
    {
     "data": {
      "text/plain": [
       "{'ADM',\n",
       " 'AST',\n",
       " 'DLF',\n",
       " 'EDF',\n",
       " 'FFO',\n",
       " 'GSB',\n",
       " 'GVL',\n",
       " 'GWO',\n",
       " 'JBR',\n",
       " 'LGU',\n",
       " 'LUF',\n",
       " 'MCF',\n",
       " 'MDH',\n",
       " 'MRI',\n",
       " 'OGD',\n",
       " 'OLM',\n",
       " 'PRB',\n",
       " 'RCA',\n",
       " 'SKY',\n",
       " 'TNT',\n",
       " 'WRB'}"
      ]
     },
     "execution_count": 44,
     "metadata": {},
     "output_type": "execute_result"
    }
   ],
   "source": [
    "dep_only = set(dat['origin_airport'].value_counts().keys()).difference(set(dat['destination_airport'].value_counts().keys()))\n",
    "dep_only"
   ]
  },
  {
   "cell_type": "markdown",
   "metadata": {},
   "source": [
    "В какие аэропорты только прилетают?"
   ]
  },
  {
   "cell_type": "code",
   "execution_count": 45,
   "metadata": {},
   "outputs": [
    {
     "data": {
      "text/plain": [
       "{'ALM',\n",
       " 'AOH',\n",
       " 'BYH',\n",
       " 'CGF',\n",
       " 'CVS',\n",
       " 'GUS',\n",
       " 'HLG',\n",
       " 'HMN',\n",
       " 'LFK',\n",
       " 'LWC',\n",
       " 'MWC',\n",
       " 'NBG',\n",
       " 'OFF',\n",
       " 'PDK',\n",
       " 'PNE',\n",
       " 'SKA',\n",
       " 'TMB'}"
      ]
     },
     "execution_count": 45,
     "metadata": {},
     "output_type": "execute_result"
    }
   ],
   "source": [
    "arr_only = set(dat['destination_airport'].value_counts().keys()).difference(set(dat['origin_airport'].value_counts().keys()))\n",
    "arr_only"
   ]
  },
  {
   "cell_type": "markdown",
   "metadata": {},
   "source": [
    "У какого аэропорта отношение $\\frac{\\text{число вылетов}}{\\text{число прилётов}}$ самое большое? (Оно будет равно $+\\infty$ для тех аэропортов, куда никто не прилетает, поэтому не будем их рассматривать)"
   ]
  },
  {
   "cell_type": "code",
   "execution_count": 80,
   "metadata": {},
   "outputs": [
    {
     "name": "stdout",
     "output_type": "stream",
     "text": [
      "[('PIB', 10.0), ('PRC', 6.0), ('HRO', 5.0), ('AOO', 4.0), ('PNC', 4.0)]\n"
     ]
    }
   ],
   "source": [
    "departure_counts_dict = dict(dat['origin_airport'].value_counts())\n",
    "arrival_counts_dict = dict(dat['destination_airport'].value_counts())\n",
    "departure_to_arrival_fraction_dict = {}\n",
    "# Убираем аэропорты, где не было прилётов\n",
    "for airport in dep_only:\n",
    "    if airport in departure_counts_dict:\n",
    "        del departure_counts_dict[airport]\n",
    "        \n",
    "for airport in departure_counts_dict:\n",
    "    departure_to_arrival_fraction_dict.update({airport: departure_counts_dict[airport]/arrival_counts_dict[airport]})\n",
    "\n",
    "print(sorted(departure_to_arrival_fraction_dict.items(), key=lambda x: x[1], reverse=True)[:5])"
   ]
  },
  {
   "cell_type": "markdown",
   "metadata": {},
   "source": [
    "Изобразим координаты всех аэропортов отправления и увидим карту США"
   ]
  },
  {
   "cell_type": "code",
   "execution_count": 104,
   "metadata": {},
   "outputs": [
    {
     "data": {
      "image/png": "[encoded data removed]",
      "text/plain": [
       "<Figure size 576x576 with 1 Axes>"
      ]
     },
     "metadata": {},
     "output_type": "display_data"
    }
   ],
   "source": [
    "plt.scatter(dat.origin_longitude, dat.origin_latitude);"
   ]
  },
  {
   "cell_type": "code",
   "execution_count": null,
   "metadata": {},
   "outputs": [],
   "source": []
  }
 ],
 "metadata": {
  "kernelspec": {
   "display_name": "Python 3",
   "language": "python",
   "name": "python3"
  },
  "language_info": {
   "codemirror_mode": {
    "name": "ipython",
    "version": 3
   },
   "file_extension": ".py",
   "mimetype": "text/x-python",
   "name": "python",
   "nbconvert_exporter": "python",
   "pygments_lexer": "ipython3",
   "version": "3.7.1"
  }
 },
 "nbformat": 4,
 "nbformat_minor": 2
}
