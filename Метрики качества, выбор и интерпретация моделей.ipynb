{
 "cells": [
  {
   "cell_type": "code",
   "execution_count": 1,
   "metadata": {},
   "outputs": [],
   "source": [
    "import os\n",
    "import numpy as np\n",
    "import pandas as pd\n",
    "from tqdm import tqdm_notebook\n",
    "from mpl_toolkits.mplot3d import Axes3D\n",
    "import matplotlib\n",
    "import matplotlib.pyplot as plt\n",
    "import matplotlib.patches as mpatches\n",
    "%matplotlib inline\n",
    "import seaborn as sns\n",
    "import scipy\n",
    "import warnings\n",
    "warnings.filterwarnings('ignore')"
   ]
  },
  {
   "cell_type": "code",
   "execution_count": 2,
   "metadata": {},
   "outputs": [],
   "source": [
    "matplotlib.rcParams['figure.figsize'] = (8, 8)\n",
    "sns.set_style('whitegrid')"
   ]
  },
  {
   "cell_type": "markdown",
   "metadata": {},
   "source": [
    "### Интерпретация моделей"
   ]
  },
  {
   "cell_type": "markdown",
   "metadata": {},
   "source": [
    "В мире анализа данных очень важным качеством модели является её интерпретируемость. Многие бизнес решения склоняются в пользу более простых моделей с меньшим качеством, ввиду лучшей интерпретируемости таких моделей. Если модель не поддаётся интерпретации, то её с меньшей охотой внедряют в продакшн, ведь нельзя проанализировать, на каких объектах эта модель поведёт анамально и почему она так себя повела. \n",
    "\n",
    "Однако и для сложных нелинейных моделей (деревья решений, нейронные сети и т.д.) существуют способы интерпретации и анализа их работы. "
   ]
  },
  {
   "cell_type": "markdown",
   "metadata": {},
   "source": [
    " "
   ]
  },
  {
   "cell_type": "markdown",
   "metadata": {},
   "source": [
    "Начнём с простейших линейных моделей - линейная и логистическая регрессии."
   ]
  },
  {
   "cell_type": "markdown",
   "metadata": {},
   "source": [
    "<font color='red'>Линейная регрессия</font> это модель вида: $y = w_{0} + w_{1} \\cdot x_{1} + w_{2} \\cdot x_{2} + \\dots + w_{d} \\cdot x_{d}, \\ y \\in \\mathbb{R}$. Линейной она называется потому, что эта модель <b><i>линейная по параметрам ($w_{k}$)</i></b>, то есть модель $y = w_{0} + w_{1} \\cdot x_{1}^2 + w_{2} \\cdot x_{1}^3$ тоже будет называться линейной регрессией."
   ]
  },
  {
   "cell_type": "markdown",
   "metadata": {},
   "source": [
    "Её любят статистики за простую интерпретируемость. \n",
    "\n",
    "Рассмотрим на примере."
   ]
  },
  {
   "cell_type": "markdown",
   "metadata": {},
   "source": [
    "Пусть есть модель зависимости стоимости квартиры (млн. Руб.) от различных характеристик квартиры: \n",
    "\n",
    "$$price = 3 + 2 \\cdot n\\_rooms + 0.3 \\cdot metro\\_dist - 0.1 \\cdot floor$$\n",
    "\n",
    "Тогда коэффициент при n\\_rooms можно проинтерпретировать так: \n",
    "\n",
    "При прочих равных условиях (а именно, если мы будем рассматривать множество квартир, отличающихся только количеством комнат), при увеличении числа комнат в квартире на 1 общая цена квартиры растёт <b>в среднем</b> на 2 млн. руб. \n",
    "\n",
    "При floor: При прочих равных условиях, при этажа на котором располагается квартира на 1 общая цена квартиры падает <b>в среднем</b> на 100 тыс. руб. (0.1 млн. руб.) "
   ]
  },
  {
   "cell_type": "markdown",
   "metadata": {},
   "source": [
    " "
   ]
  },
  {
   "cell_type": "markdown",
   "metadata": {},
   "source": [
    "Рассмотрим вариации этой модели и как будет меняться интерпретация в зависимости от вида линейной регрессии:"
   ]
  },
  {
   "cell_type": "markdown",
   "metadata": {},
   "source": [
    "1) $y = w \\cdot \\ln x$\n",
    "\n",
    "При прочих равных условиях при увеличении переменной x на $\\boxed{1 \\%}$ переменная y меняется на $\\boxed{w \\cdot 100 \\ единиц}$"
   ]
  },
  {
   "cell_type": "markdown",
   "metadata": {},
   "source": [
    "2) $\\ln y = w \\cdot x$\n",
    "\n",
    "При прочих равных условиях при увеличении переменной x на $\\boxed{1 \\ единицу}$ переменная y меняется на $\\boxed{(e^{w} - 1) \\cdot 100\\%}$"
   ]
  },
  {
   "cell_type": "markdown",
   "metadata": {},
   "source": [
    "3) $\\ln y = w \\cdot \\ln x$\n",
    "\n",
    "При прочих равных условиях при увеличении переменной x на $\\boxed{1\\%}$ переменная y меняется на $\\boxed{w\\%}$"
   ]
  },
  {
   "cell_type": "markdown",
   "metadata": {},
   "source": [
    " "
   ]
  },
  {
   "cell_type": "markdown",
   "metadata": {},
   "source": [
    "Однако с линейной регрессией нужно умень оценивать адекватность модели для того, чтобы можно было проводить такую интерпретацию коэффициентов. В случае наличиня [мультиколлинеарности](https://ru.wikipedia.org/wiki/Мультиколлинеарность) в модели оценки теряют интерпретируемость.\n",
    "\n",
    "Рассмотрим пример."
   ]
  },
  {
   "cell_type": "markdown",
   "metadata": {},
   "source": [
    "Пусть была оценена линейная регрессия со следующими параметрами\n",
    "\n",
    "$$y = 3 + 5 \\cdot x  - 3 \\cdot w + 15 \\cdot z$$\n",
    "\n",
    "Но пусть так же известно, что переменные x и w связаны соотношением: $z = 2 \\cdot x - 7 \\cdot w \\Rightarrow z - 2 \\cdot x + 7 \\cdot w = 0$\n",
    "\n",
    "Тогда: $y = 3 + 5 \\cdot x  - 3 \\cdot w + 15 \\cdot z + 0 = 3 + 5 \\cdot x  - 3 \\cdot w + 15 \\cdot z + (z - 2 \\cdot x + 7 \\cdot w) = 3 + 3 \\cdot x + 4 \\cdot w + 16 \\cdot z$\n",
    "\n",
    "Получаем совсем другие коэффициенты перед признаками, однако само уравнение по прежнему точно так же описывает игрек"
   ]
  },
  {
   "cell_type": "code",
   "execution_count": null,
   "metadata": {},
   "outputs": [],
   "source": []
  },
  {
   "cell_type": "code",
   "execution_count": null,
   "metadata": {},
   "outputs": [],
   "source": []
  }
 ],
 "metadata": {
  "kernelspec": {
   "display_name": "Python 3",
   "language": "python",
   "name": "python3"
  },
  "language_info": {
   "codemirror_mode": {
    "name": "ipython",
    "version": 3
   },
   "file_extension": ".py",
   "mimetype": "text/x-python",
   "name": "python",
   "nbconvert_exporter": "python",
   "pygments_lexer": "ipython3",
   "version": "3.7.1"
  }
 },
 "nbformat": 4,
 "nbformat_minor": 2
}
